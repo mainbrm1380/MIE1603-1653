{
  "cells": [
    {
      "cell_type": "markdown",
      "source": [
        "# __Table Of Contents__\n",
        "\n",
        "1. [Problem Context and Definition](#p-c-and-d)\n",
        "\n",
        "## Initial Model\n",
        "2. [Initial MIP Formulation](#initial-model)\n",
        "3. [Initial Gurobi Code]\n",
        "4. [Initial Results]\n",
        "\n",
        "## Improvements\n",
        "### Phase One\n",
        "5. [Idea 1 - Implicit Continuous Variables]\n",
        "6. [Idea 2 - Binary Representation of Element Sections]\n",
        "7. [Idea 3 - Lazy Callbacks of Grouping Constraint]\n",
        "8. [Results of Phase One Improvements]\n",
        "\n",
        "### Phase Two\n",
        "9. [Idea 4 - Partial Symmetry Breaking]\n",
        "10. [Idea 5 - Clique Constraints]\n",
        "11. [Results of Phase Two Improvements]\n",
        "\n",
        "12. [Contribution Declratation]"
      ],
      "metadata": {
        "id": "ah7erLA1IyZS"
      }
    },
    {
      "cell_type": "markdown",
      "source": [
        "# **Problem Context and Definition**"
      ],
      "metadata": {
        "id": "K3ipOKZrI6a0"
      }
    },
    {
      "cell_type": "markdown",
      "source": [
        "Designers can choose different structural sections for each element.\n",
        "\n",
        "The higher the loads, the larger the section needed, the higher the material and labour cost to buy and install that element.\n",
        "\n",
        "Generally, designers choose the smallest section necessary to fulfill the requirements.\n",
        "\n",
        "In a typical building, there can be thousands of individual elements.\n",
        "\n",
        "It would be unreasonable to design each one individually.\n",
        "\n",
        "So: engineers group elements with similar conditions and design based on the “worst-case” in each group.\n",
        "\n",
        "Each element has a ‘minimum viable section'.\n",
        "\n",
        "The grouped section must be larger/equal to this minimum.\n",
        "\n",
        "An element must have a larger/equal section to the element below.\n",
        "\n",
        "Section defined as integer with associated cost (larger number = larger associated cost).\n",
        "\n",
        "*  Groups are defined as acting over:\n",
        "\n",
        "*  A certain subset of columns.\n",
        "\n",
        "*  A certain range of floors.\n",
        "\n",
        "*  Every element within that set must exist and must be in the group.\n",
        "\n",
        "*  If a group is defined over a column/floor, an element has to exist there and must be in the group."
      ],
      "metadata": {
        "id": "C3GIgpknI7eh"
      }
    },
    {
      "cell_type": "markdown",
      "source": [
        "# __Initial Model__"
      ],
      "metadata": {
        "id": "UGmOUhxrGvLk"
      }
    },
    {
      "cell_type": "markdown",
      "source": [
        "### **Sets**"
      ],
      "metadata": {
        "id": "uV-9VFmhaIUh"
      }
    },
    {
      "cell_type": "markdown",
      "source": [
        "For our initial model we define the following sets:\n",
        "\n",
        "  * Levels: $$L={1,...,n_{L}}$$\n",
        "  * Columns: $$C={1,...,n_{C}}$$\n",
        "  * Sections: $$S={1,...,n_{S}}$$\n",
        "  * Groups: $$C={1,...,n_{G}}$$\n",
        "\n",
        "We define the following heuristic to obtain an upperbound for the number of group:\n",
        "$$n_{G}=min(100,\\sum\\limits_{c ϵ C}|S_{c}|, \\sum\\limits_{l ϵ L}|S_{l}|)$$\n",
        "\n"
      ],
      "metadata": {
        "id": "ATjTfCAMG64Q"
      }
    },
    {
      "cell_type": "markdown",
      "source": [
        "### **Constants**"
      ],
      "metadata": {
        "id": "OChRwEUoagT8"
      }
    },
    {
      "cell_type": "markdown",
      "source": [
        "Based on our input data we define the following constants:\n",
        "\n",
        "  * Minmimum Viable Section:\n",
        "  $$mvs_{cl}=\n",
        "  \\left\\{\n",
        "  \\begin{array}{l}\n",
        "  s\\hspace{1cm}\\text{if element exists} \\\\\n",
        "  0\\hspace{1cm}\\text{otherwise}\n",
        "  \\end{array}\n",
        "  \\right.\\hspace{1cm}∀\\ c\\ ϵ\\ C,\\ l\\ ϵ\\ L,\\ g\\ ϵ\\ G\n",
        "  $$\n",
        "\n",
        "  * Whether an element exists:\n",
        "  $$e_{cl}=\n",
        "  \\left\\{\n",
        "  \\begin{array}{l}\n",
        "  1\\hspace{1cm}\\text{if element exists} \\\\\n",
        "  0\\hspace{1cm}\\text{otherwise}\n",
        "  \\end{array}\n",
        "  \\right.\\hspace{1cm}∀\\ c\\ ϵ\\ C,\\ l\\ ϵ\\ L,\\ g\\ ϵ\\ G\n",
        "  $$\n",
        "\n",
        "  * Cost of Section:\n",
        "  $$cs_{s}\\ ∀\\ s\\ ϵ\\ S$$\n",
        "\n",
        "  * Costper Group:$$cg$$\n",
        "\n",
        "  * Big M: $$M_{L}=n_{L}+1,\\ M_{S}=n_{S}+1$$\n"
      ],
      "metadata": {
        "id": "gnRfwNlMaeJb"
      }
    },
    {
      "cell_type": "markdown",
      "source": [
        "### **Decision Variables**"
      ],
      "metadata": {
        "id": "gCfL_qkGaSuI"
      }
    },
    {
      "cell_type": "markdown",
      "metadata": {
        "id": "Zf0n213mGZvy"
      },
      "source": [
        "The following are the decision variables:\n",
        "  * Variables relating to grouping:\n",
        "  $$x_{clg}=\n",
        "  \\left\\{\n",
        "  \\begin{array}{l}\n",
        "  1\\hspace{1cm}\\text{if element at column}\\ c\\ \\text{, level}\\ l\\ \\text{is in group g} \\\\\n",
        "  0\\hspace{1cm}\\text{otherwise}\n",
        "  \\end{array}\n",
        "  \\right.\\hspace{1cm}∀\\ c\\ ϵ\\ C,\\ l\\ ϵ\\ L,\\ g\\ ϵ\\ G\n",
        "  $$\n",
        "\n",
        "  $$ge_{g}=\n",
        "  \\left\\{\n",
        "  \\begin{array}{l}\n",
        "  1\\hspace{1cm}\\text{if group}\\ g\\ \\text{exists} \\\\\n",
        "  0\\hspace{1cm}\\text{otherwise}\n",
        "  \\end{array}\n",
        "  \\right.\\hspace{1cm}∀\\ g\\ ϵ\\ G\n",
        "  $$\n",
        "\n",
        "  $$cig_{cg}=\n",
        "  \\left\\{\n",
        "  \\begin{array}{l}\n",
        "  1\\hspace{1cm}\\text{if column}\\ c\\ \\text{is in group}\\ g \\\\\n",
        "  0\\hspace{1cm}\\text{otherwise}\n",
        "  \\end{array}\n",
        "  \\right.\\hspace{1cm}∀\\ c\\ ϵ\\ C,\\ g\\ ϵ\\ G\n",
        "  $$\n",
        "\n",
        "  $$lig_{lg}=\n",
        "  \\left\\{\n",
        "  \\begin{array}{l}\n",
        "  1\\hspace{1cm}\\text{if level}\\ l\\ \\text{is in group}\\  g \\\\\n",
        "  0\\hspace{1cm}\\text{otherwise}\n",
        "  \\end{array}\n",
        "  \\right.\\hspace{1cm}∀\\ l\\ ϵ\\ L,\\ g\\ ϵ\\ G\n",
        "  $$\n",
        "\n",
        "  * Variables relating to levels:\n",
        "  $$glb_{g}= \\text{The smallest level in group}\\ g\\hspace{1cm} 0\\leq glb_{g}\\leq n_{l} \\hspace{1cm}∀\\ g\\ ϵ\\ G,\\ glb_g\\ ϵ\\ Z$$\n",
        "\n",
        "  $$gub_{g}= \\text{The highest level in group}\\ g\\hspace{1cm} 0\\leq glb_{g}\\leq n_{l} \\hspace{1cm}∀\\ g\\ ϵ\\ G,\\ glb_g\\ ϵ\\ Z$$\n",
        "\n",
        "  $$zu_{lg}=\n",
        "  \\left\\{\n",
        "  \\begin{array}{l}\n",
        "  1\\hspace{1cm}\\text{if}\\ gub_{g}\\geq\\ l  \\\\\n",
        "  0\\hspace{1cm}\\text{otherwise}\n",
        "  \\end{array}\n",
        "  \\right.\\hspace{1cm}∀\\ c\\ ϵ\\ C,\\ g\\ ϵ\\ G\n",
        "  $$\n",
        "  \n",
        "  \n",
        "  $$zl_{lg}=\n",
        "  \\left\\{\n",
        "  \\begin{array}{l}\n",
        "  1\\hspace{1cm}\\text{if}\\ gub_{g}\\leq\\ l  \\\\\n",
        "  0\\hspace{1cm}\\text{otherwise}\n",
        "  \\end{array}\n",
        "  \\right.\\hspace{1cm}∀\\ c\\ ϵ\\ C,\\ g\\ ϵ\\ G\n",
        "  $$\n",
        "\n",
        "  * Variables relating to sections:\n",
        "\n",
        "  $$gs_{g}= \\text{Section of group}\\ g\\hspace{1cm} 0\\leq gs_{g}\\leq n_{g} \\hspace{1cm}∀\\ g\\ ϵ\\ G,\\ gs_g\\ ϵ\\ Z$$\n",
        "  \n",
        "  $$es_{cl}= \\text{Section of element at column}\\ c\\ \\text{at level}\\ l\\hspace{1cm} 0\\leq es_{cl}\\leq n_{s} \\hspace{1cm}∀\\ c\\ ϵ\\ C,\\ es_{cl}\\ ϵ\\ Z$$\n",
        "  \n",
        "  $$ec_{cl}= \\text{Cost of element at column}\\ c\\ \\text{at level}\\ l\\hspace{1cm} 0\\leq es_{cl}\\leq \\max cs_{s} \\hspace{1cm}∀\\ c\\ ϵ\\ C,\\ es_{cl}\\ ϵ\\ R$$\n",
        "\n",
        "  $$esb_{cls}=\n",
        "  \\left\\{\n",
        "  \\begin{array}{l}\n",
        "  1\\hspace{1cm}\\text{if}\\ es_{cl}= s  \\\\\n",
        "  0\\hspace{1cm}\\text{otherwise}\n",
        "  \\end{array}\n",
        "  \\right.\\hspace{1cm}∀\\ c\\ ϵ\\ C,\\ l\\ ϵ\\ L,\\ s\\ ϵ\\ S\n",
        "  $$"
      ]
    },
    {
      "cell_type": "markdown",
      "source": [
        "### **Objective Function**"
      ],
      "metadata": {
        "id": "ybhJJdmDaq4h"
      }
    },
    {
      "cell_type": "markdown",
      "source": [
        "$$min∑\\limits_{c\\ ϵ\\ C,\\ l\\ ϵ\\ L, g\\ ϵ\\ G}ec_{cl}+cg\\times ge_{g}-gub_{g}+glb_g$$\n",
        "\n",
        "The above ensures that we:\n",
        "  1. Minimzie section cost\n",
        "  2. Minimize number of groups\n",
        "  3. Minimze upperbound and maximize the lowerbound"
      ],
      "metadata": {
        "id": "M_7n1Ce3avnm"
      }
    },
    {
      "cell_type": "markdown",
      "source": [
        "### **Constraints**"
      ],
      "metadata": {
        "id": "WTiUTEX_awXT"
      }
    },
    {
      "cell_type": "markdown",
      "source": [
        "The following constraints are regarding grouping:\n",
        "  * To ensure that each element that exists is in exactly one group:\n",
        "  $$\\sum\\limits_{g\\ ϵ\\ G}x_{clg}=e_{cl}\\hspace{1cm}∀\\ c\\ ϵ\\ C, \\ l\\ ϵ\\ L$$\n",
        "  * Columns in group tied to element in group:\n",
        "  $$cig_{cg}\\geq x_{clg}\\hspace{1cm}∀\\ c\\ \\epsilon\\ C,\\ l\\ \\epsilon \\ L,\\ g\\ \\epsilon\\ G$$\n",
        "  * Level in group tied to element in group:\n",
        "  $$lig_{lg}\\geq x_{clg}\\hspace{1cm}∀\\ c\\ \\epsilon\\ C,\\ l\\ \\epsilon \\ L,\\ g\\ \\epsilon\\ G$$\n",
        "  * Group exists tied to element in group:\n",
        "  $$ge_{g}\\geq x_{clg}\\hspace{1cm}∀\\ c\\ \\epsilon\\ C,\\ l\\ \\epsilon \\ L,\\ g\\ \\epsilon\\ G$$"
      ],
      "metadata": {
        "id": "bnFTLEgNawsJ"
      }
    },
    {
      "cell_type": "markdown",
      "source": [
        "The following constraints are regarding sections:\n",
        "  * One section per element:\n",
        "  $$\\sum\\limits_{s\\ ϵ\\ S}ecb_{cls}=1\\hspace{1cm}∀\\ c\\ ϵ\\ C,\\ l\\ ϵ\\ L$$\n",
        "\n",
        "  * Element section implies element cost:\n",
        "  $$ecb_{cls}=1⇒es_{cl}=s\\hspace{1cm}∀\\ c\\ ϵ\\ C,\\ l\\ ϵ\\ L,\\ s\\ ϵ\\ S$$\n",
        "  $$ecb_{cls}=1⇒ec_{cl}=s\\hspace{1cm}∀\\ c\\ ϵ\\ C,\\ l\\ ϵ\\ L,\\ s\\ ϵ\\ S$$\n",
        "\n",
        "  * Element section larger than minimum viable section, smaller than section below:\n",
        "  $$es_{cl}\\geq mvs_{cl}\\hspace{1cm}∀\\ c\\ ϵ\\ C,\\ l\\ ϵ\\ L$$\n",
        "  $$es_{cl}\\leq es_{c,\\ l-1}\\hspace{1cm}∀\\ c\\ ϵ\\ C,\\ l\\ ϵ\\ L:\\ e_{cl}=1\\ \\cap\\ e_{c,l-1}=1$$\n",
        "\n",
        "  * Element section linked with group section:\n",
        "  $$es_{cl}\\geq gs_g-M_s(1-x_{clg})\\hspace{1cm}∀\\ c\\ \\epsilon\\ C,\\ l\\ \\epsilon \\ L,\\ g\\ \\epsilon\\ G$$\n",
        "  $$es_{cl}\\leq gs_g+M_s(1-x_{clg})\\hspace{1cm}∀\\ c\\ \\epsilon\\ C,\\ l\\ \\epsilon \\ L,\\ g\\ \\epsilon\\ G$$"
      ],
      "metadata": {
        "id": "IArm6VS7cB-g"
      }
    },
    {
      "cell_type": "markdown",
      "source": [
        "The following constraints are regarding levels:\n",
        "  * Define group level UB and group level LB:\n",
        "  $$l× lig_{lg}\\leq gub_g\\hspace{1cm}\\forall\\ l\\ ϵ\\ L,\\ g\\ ϵ\\ G$$\n",
        "  $$l× lig_{lg}+M_L(1-lig_{lg})\\geq glb_g\\hspace{1cm}\\forall\\ l\\ ϵ\\ L,\\ g\\ ϵ\\ G$$\n",
        "\n",
        "  * Define _ZU_ and _ZL_ (whether level is above lowerbound\\below upperbound):\n",
        "  $$M_L×zl_{lg}\\geq l-glb_g+1\\hspace{1cm}\\forall\\ l\\ ϵ\\ L,\\ g\\ ϵ\\ G$$\n",
        "  $$M_L×(1-zl_{lg})\\geq glb_g-l\\hspace{1cm}\\forall\\ l\\ ϵ\\ L,\\ g\\ ϵ\\ G$$\n",
        "  $$M_L×zu_{lg}\\geq glb_g-l+1\\hspace{1cm}\\forall\\ l\\ ϵ\\ L,\\ g\\ ϵ\\ G$$\n",
        "  $$M_L×(1-zu_{lg})\\geq l-glb_g\\hspace{1cm}\\forall\\ l\\ ϵ\\ L,\\ g\\ ϵ\\ G$$\n",
        "\n",
        "  * If level is below upperbound and above lowerbound, it is in the group:\n",
        "  $$1+lig_{lg}\\geq zu_{lg}+zl_{lg}\\hspace{1cm}\\forall\\ l\\ ϵ\\ L,\\ g\\ ϵ\\ G$$\n",
        "\n",
        "  * If the column and level are in group, element at that level and column must be in the same group:\n",
        "  $$cig_{cg}+lig_{lg}\\leq 1+x_{}clg\\hspace{1cm}\\forall\\ l\\ ϵ\\ L,\\ c\\ \\epsilon\\ C,\\ g\\ ϵ\\ G$$"
      ],
      "metadata": {
        "id": "Z2o-9tR_cCUW"
      }
    },
    {
      "cell_type": "markdown",
      "source": [
        "# **Phase One Improvements**"
      ],
      "metadata": {
        "id": "slezIcLtvzlq"
      }
    },
    {
      "cell_type": "markdown",
      "source": [
        "## **1. Implicit Continuous Variables**\n",
        "\n",
        "When testing our model on small test data, we obsereved that gurobi tended to change a number of variables to be continuous, instead of integer or binary. As a result we changed the following variables to be contiuous instead of integer or binary:\n",
        "\n",
        "$$ 0\\leq glb_{g}\\leq n_{l} \\hspace{1cm}∀\\ g\\ ϵ\\ G, \\ glb_g\\ ϵ\\ R$$\n",
        "$$ 0\\leq glb_{g}\\leq n_{l} \\hspace{1cm}∀\\ g\\ ϵ\\ G,\\ glb_g\\ ϵ\\ R$$\n",
        "$$zu_{lg}=[0,1]\\hspace{1cm}∀\\ c\\ ϵ\\ C,\\ g\\ ϵ\\ G, zu_{lg}\\ ϵ\\ R$$\n",
        "$$zl_{lg}=[0,1]\\hspace{1cm}∀\\ c\\ ϵ\\ C,\\ g\\ ϵ\\ G, zu_{lg}\\ ϵ\\ R$$\n"
      ],
      "metadata": {
        "id": "TfkFXOdlv4G4"
      }
    },
    {
      "cell_type": "markdown",
      "source": [
        "## **2. Binary Model**\n",
        "The element section integer variables can be easily represented by only binary variables by making some adjustments to our constraints:\n",
        "  * We remove the following variables:\n",
        "  $$es_{cl}$$\n",
        "  $$ec_{cl}$$\n",
        "  * And make the following adjustments to our constraints:\n",
        "  $$\\sum\\limits_{s\\ ϵ\\ S}esb_{cls}=e_{cl}\\hspace{1cm}\\forall c\\ ϵ\\ C,\\ l\\ \\epsilon\\ L$$\n",
        "  $$\\sum\\limits_{s\\ ϵ\\ S}s\\times esb_{cls}\\geq mvs_{cl}\\hspace{1cm}\\forall c\\ ϵ\\ C,\\ l\\ \\epsilon\\ L$$\n",
        "  $$\\sum\\limits_{s\\ ϵ\\ S}s\\times esb_{cls}\\leq\\sum\\limits_{s\\ ϵ\\ S}s\\times esb_{c,\\ l-1,\\ s}\\hspace{1cm}∀\\ c\\ ϵ\\ C,\\ l\\ ϵ\\ L:\\ e_{cl}=1\\ \\cap\\ e_{c,l-1}=1$$\n",
        "  $$\\sum\\limits_{s\\ \\epsilon\\ S}s× esb_{cls}\\geq gs_g-M_S(1-x_{clg})\\hspace{1cm}∀\\ c\\ ϵ\\ C,\\ l\\ \\epsilon\\ L,\\ g\\ ϵ\\ G$$\n",
        "  $$\\sum\\limits_{s\\ \\epsilon\\ S}s× esb_{cls}\\leq gs_g+M_S(1-x_{clg})\\hspace{1cm}∀\\ c\\ ϵ\\ C,\\ l\\ \\epsilon\\ L,\\ g\\ ϵ\\ G$$\n",
        "  * Finally we change our objective function to comply with the changes we have made:\n",
        "  $$\\sum\\limits_{c\\ \\epsilon\\ C,\\ l\\ ϵ\\ L,\\ g\\ ϵ\\ G}cs_s× ecb_{cls}+c_g×ge_g-gub_g+glb_g$$"
      ],
      "metadata": {
        "id": "HrN4yyse0Slq"
      }
    },
    {
      "cell_type": "markdown",
      "source": [
        "## **3. Lazy Constraint**\n",
        "We added the following constraint as a lazy callback constraint:\n",
        "$$cig_{cg}+lig_{lg}\\leq 1+x_{clg}\\hspace{1cm}∀\\ c\\ \\epsilon\\ C,\\ l\\ ϵ\\ L, g\\ ϵ\\ G$$\n",
        "\n",
        "The reason for why we added this particular constraint as a lazy callback is that this is the most geometrically restricting constraint."
      ],
      "metadata": {
        "id": "i8FbGt6UJJ1B"
      }
    },
    {
      "cell_type": "markdown",
      "source": [
        "# **Gurobi Settings**"
      ],
      "metadata": {
        "id": "UyEJymEuJNnM"
      }
    },
    {
      "cell_type": "markdown",
      "source": [
        "We have set a time limit of 30 minutes (1800 seconds) and memory limit of 10 GB."
      ],
      "metadata": {
        "id": "mAQY9xhwJQ08"
      }
    },
    {
      "cell_type": "code",
      "source": [
        "import gurobipy as gp\n",
        "from gurobipy import GRB\n",
        "import json\n",
        "import psutil\n",
        "import os\n",
        "import sys\n",
        "import numpy as np\n",
        "# import matplotlib.pyplot as plt\n",
        "# import matplotlib.colors as mcolors\n",
        "# import seaborn as sns\n",
        "\n",
        "process = psutil.Process()\n",
        "\n",
        "def get_heuristic_group_ub(columns):\n",
        "  col_ub = 0\n",
        "  level_ub = 0\n",
        "  for col in columns:\n",
        "    col_ub += len(set([elem for elem in col if elem > 0]))\n",
        "  for lvl in range(len(columns[0])):\n",
        "    level_ub += len(set([col[lvl] for col in columns if col[lvl] > 0]))\n",
        "  return min(col_ub,level_ub), max(col_ub,level_ub)\n",
        "\n",
        "# def heatmap(color_vals, annot_vals):\n",
        "#   unique_values_1 = np.unique(color_vals)\n",
        "#   unique_values_1 = unique_values_1[unique_values_1 > 0]\n",
        "\n",
        "#   unique_values_2 = np.unique(annot_vals)\n",
        "#   unique_values_2 = unique_values_2[unique_values_2 > 0]\n",
        "\n",
        "#   palette_1 = sns.color_palette(\"viridis\", len(unique_values_1))\n",
        "#   palette_2 = sns.color_palette(\"viridis\", len(unique_values_2))\n",
        "\n",
        "#   color_dict_1 = {0: (1, 1, 1)}  # White for -1\n",
        "#   for val, color in zip(unique_values_1, palette_1):\n",
        "#       color_dict_1[val] = color\n",
        "\n",
        "#   color_dict_2 = {0: (1, 1, 1)}  # White for 0\n",
        "#   for val, color in zip(unique_values_2, palette_2):\n",
        "#       color_dict_2[val] = color\n",
        "\n",
        "#   sorted_vals_1 = np.sort(list(color_dict_1.keys()))\n",
        "#   cmap_1 = mcolors.ListedColormap([color_dict_1[val] for val in sorted_vals_1])\n",
        "\n",
        "#   sorted_vals_2 = np.sort(list(color_dict_2.keys()))\n",
        "#   cmap_2 = mcolors.ListedColormap([color_dict_2[val] for val in sorted_vals_2])\n",
        "\n",
        "#   bounds_1 = np.append(sorted_vals_1, sorted_vals_1[-1] + 1) - .5\n",
        "#   norm_1 = mcolors.BoundaryNorm(bounds_1, cmap_1.N)\n",
        "\n",
        "#   bounds_2 = np.append(sorted_vals_2, sorted_vals_2[-1] + 1) - .5\n",
        "#   norm_2 = mcolors.BoundaryNorm(bounds_2, cmap_2.N)\n",
        "\n",
        "#   fig, axes = plt.subplots(1,2,figsize=(10,5))\n",
        "\n",
        "#   sns.heatmap(np.rot90(color_vals), annot=np.rot90(annot_vals), cmap=cmap_1, norm=norm_1,\n",
        "#               linewidths=0.5, linecolor=\"black\", cbar=False, ax=axes[0])\n",
        "\n",
        "#   ax2 = sns.heatmap(np.rot90(annot_vals), annot=np.rot90(color_vals), cmap=cmap_2, norm=norm_2,\n",
        "#                     linewidths=.5, linecolor=\"black\", cbar=True, ax=axes[1])\n",
        "\n",
        "#   # customizing the cbar\n",
        "#   cbar = ax2.collections[0].colorbar\n",
        "#   cbar.set_ticks(sorted_vals_2)\n",
        "#   cbar.set_ticklabels(sorted_vals_2)\n",
        "\n",
        "#   axes[0].set_title(\"Grouping of elements\")\n",
        "#   axes[1].set_title(\"Section of elements\")\n",
        "\n",
        "#   axes[0].axis(\"off\")\n",
        "#   axes[1].axis(\"off\")\n",
        "\n",
        "#   plt.tight_layout()\n",
        "#   plt.show()\n",
        "\n",
        "def lazy_callback(model, where):\n",
        "    if where == GRB.Callback.MIPSOL:  # Check if a new solution is found\n",
        "        # Retrieve the values of decision variables at the current solution\n",
        "        column_vals = model.cbGetSolution(column_in_group)\n",
        "        level_vals = model.cbGetSolution(level_in_group)\n",
        "        x_vals = model.cbGetSolution(x)\n",
        "\n",
        "        # Iterate through indices and add violated constraints\n",
        "        for g in range(max_min_groups):\n",
        "            for l in range(n_levels):\n",
        "                for c in range(n_cols):\n",
        "                    lhs = column_vals[g, c] + level_vals[g, l]  # Left-hand side\n",
        "                    rhs = 1 + x_vals[g, c, l]  # Right-hand side\n",
        "                    if lhs > rhs + 1e-6:  # Constraint is violated\n",
        "                        model.cbLazy(column_in_group[g, c] + level_in_group[g, l] <= 1 + x[g, c, l])\n",
        "\n",
        "if __name__ == \"__main__\":\n",
        "\n",
        "  print(\"===INSTANCE START\")\n",
        "\n",
        "\n",
        "  script, instance, opt = sys.argv\n",
        "\n",
        "  opt = int(opt)\n",
        "  # instance = \"4\"\n",
        "  # opt = \"4\"\n",
        "\n",
        "  #opt: 1 - only int, 2 - cont, 4 - lazy,  6 - cont+lazy\n",
        "  #opt: 3 - only bin, 5 - bin+cont, 7: bin+lazy, 8:bin+lazy+cont\n",
        "\n",
        "\n",
        "  folderpath = os.getcwd()\n",
        "  data_path = os.path.join(folderpath,\"data.json\")\n",
        "\n",
        "  with open(data_path, 'r') as file:\n",
        "    data = json.load(file)\n",
        "\n",
        "  i = instance\n",
        "  i_name = data[i][\"name\"]\n",
        "  print(f\"Instance Name: {instance}-{i_name}\")\n",
        "  test_data = data[i][\"columns\"]\n",
        "  SectionCost = data[i][\"section_costs\"]\n",
        "  n_cols = len(test_data)\n",
        "  n_levels = len(test_data[0])\n",
        "\n",
        "  max_min_groups, max_max_groups = get_heuristic_group_ub(test_data) #min(n_cols,n_levels)\n",
        "\n",
        "  min_cost = sum([SectionCost[i] for col in test_data for i in col])\n",
        "\n",
        "  GroupCost = round(min_cost/max_max_groups)\n",
        "  max_min_groups = min(100, max_min_groups)\n",
        "  n_cols = len(test_data)\n",
        "  n_levels = len(test_data[0])\n",
        "\n",
        "  M = n_levels + 2\n",
        "  M_sections = max([max(i) for i in test_data]) + 1\n",
        "\n",
        "  Xgcl = [(g,c,l) for l in range(n_levels) for c in range(n_cols) for g in range(max_min_groups)]\n",
        "  Gs = [(g,s) for g in range(max_min_groups) for s in range(M_sections)]\n",
        "  Es = [(c,l,s) for s in range(M_sections) for l in range(n_levels) for c in range(n_cols)]\n",
        "\n",
        "  #c,l\n",
        "  S = {(i,j): test_data[i][j] for j in range(n_levels) for i in range(n_cols)}\n",
        "  S_bin = {(i,j,s): 1 if s >= test_data[i][j] else 0 for s in range(M_sections) for j in range(n_levels) for i in range(n_cols)}\n",
        "  E = {(i,j): 1 if test_data[i][j] > 0 else 0 for j in range(n_levels) for i in range(n_cols)}\n",
        "\n",
        "\n",
        "  # Create a new model\n",
        "  model = gp.Model(\"Grouping-Optimization-int\")\n",
        "\n",
        "  # # Create variables\n",
        "\n",
        "  # print(\"add vars\")\n",
        "  x = model.addVars(Xgcl, vtype = GRB.BINARY, name=\"x\")\n",
        "\n",
        "  # SectionCost = [0,100,400,800,1600,3200,6400,12800,14000]\n",
        "  sections = set(i for i in range(len(SectionCost)))\n",
        "\n",
        "  group_exists = model.addVars(max_min_groups, vtype = GRB.BINARY, name=\"group_exists\")\n",
        "  column_in_group = model.addVars(max_min_groups, n_cols, vtype = GRB.BINARY, name=\"col_in_group\")\n",
        "  level_in_group = model.addVars(max_min_groups, n_levels, vtype = GRB.BINARY, name=\"level_in_group\")\n",
        "\n",
        "  # can these be continuous? or must be int?\n",
        "\n",
        "  #section size variables\n",
        "  group_section = model.addVars(max_min_groups, vtype = GRB.INTEGER, name=\"group_section\", lb = 0, ub = max(sections))\n",
        "  element_section = model.addVars(S.keys(), vtype=GRB.INTEGER, name=\"element_section\", lb=0, ub = max(sections))\n",
        "  # binary variables y[i,j,k] that are 1 if element_section[i,j] == k\n",
        "  y = model.addVars(S.keys(), range(len(sections)), vtype=GRB.BINARY, name=\"y\")\n",
        "\n",
        "  # cost variables for element_section\n",
        "  cost_section = model.addVars(S.keys(), vtype=GRB.CONTINUOUS, name=\"cost_section\")\n",
        "  # Zs = model.addVars(Xgcl, vtype = GRB.BINARY, name = \"Zs\") #if group section = element section\n",
        "\n",
        "  if opt in [2,5,6,8]:\n",
        "    group_lower_bound = model.addVars(max_min_groups, vtype = GRB.CONTINUOUS, name=\"group_lb\", lb = 0, ub = n_levels)\n",
        "    group_upper_bound = model.addVars(max_min_groups, vtype = GRB.CONTINUOUS, name=\"group_ub\", lb = 0, ub = n_levels)\n",
        "    group_level_range = model.addVars(max_min_groups, vtype = GRB.CONTINUOUS, name=\"group_range\", lb = 0, ub = n_levels)\n",
        "    Zu = model.addVars(max_min_groups, n_levels, vtype = GRB.CONTINUOUS, name=\"Zu\")\n",
        "    Zl = model.addVars(max_min_groups, n_levels, vtype = GRB.CONTINUOUS, name=\"Zl\")\n",
        "  else:\n",
        "    group_lower_bound = model.addVars(max_min_groups, vtype = GRB.INTEGER, name=\"group_lb\", lb = 0, ub = n_levels)\n",
        "    group_upper_bound = model.addVars(max_min_groups, vtype = GRB.INTEGER, name=\"group_ub\", lb = 0, ub = n_levels)\n",
        "    group_level_range = model.addVars(max_min_groups, vtype = GRB.INTEGER, name=\"group_range\", lb = 0, ub = n_levels)\n",
        "    Zu = model.addVars(max_min_groups, n_levels, vtype = GRB.BINARY, name=\"Zu\")\n",
        "    Zl = model.addVars(max_min_groups, n_levels, vtype = GRB.BINARY, name=\"Zl\")\n",
        "\n",
        "  # print(\"add elem constrs\")\n",
        "\n",
        "  for i, j in S.keys():\n",
        "    model.addConstr(gp.quicksum(y[i, j, k] for k in range(len(sections))) == 1)\n",
        "\n",
        "    for k in range(len(sections)):\n",
        "        model.addConstr((y[i, j, k] == 1) >> (element_section[i, j] == k))  # Enforce correct index\n",
        "        model.addConstr((y[i, j, k] == 1) >> (cost_section[i, j] == SectionCost[k]))\n",
        "\n",
        "\n",
        "  for c in range(n_cols):\n",
        "    for l in range(n_levels):\n",
        "      #sum of Xgcl over all groups must = if col at that level exists\n",
        "      model.addConstr(gp.quicksum(x[g,c,l] for g in range(max_min_groups)) == E[c,l])\n",
        "      model.addConstr(element_section[c,l] >= S[c,l])\n",
        "      # model.addConstr(gp.quicksum(element_section[c,l,s] for s in range(M_sections)) == 1)\n",
        "\n",
        "    for l in range(1,n_levels):\n",
        "      if E[c,l] == 1 and E[c,l-1] == 1:\n",
        "        model.addConstr(element_section[c,l] <= element_section[c,l-1])\n",
        "\n",
        "  # print(\"add grp constrs\")\n",
        "  for g in range(max_min_groups):\n",
        "    print(g, g/max_min_groups)\n",
        "    #range of group g = upper bound - lower bound\n",
        "    model.addConstr(group_level_range[g] == group_upper_bound[g] - group_lower_bound[g])\n",
        "\n",
        "    #1 section per group\n",
        "    # model.addConstr(gp.quicksum(group_section[g] for s in range(M_sections)) == 1)\n",
        "\n",
        "    for c in range(n_cols):\n",
        "      for l in range(n_levels):\n",
        "\n",
        "        #if element is in a group, it's section is at least the group's\n",
        "        #if not in the group, it's greater than (at most) 0\n",
        "        #TODO: these are problems constraints.\n",
        "        model.addConstr(element_section[c,l] >= group_section[g] - M_sections*(1-x[g,c,l]))\n",
        "        model.addConstr(element_section[c,l] <= group_section[g] + M_sections*(1-x[g,c,l]))\n",
        "\n",
        "        #if element is in group, that column is in the group\n",
        "        model.addConstr(column_in_group[g,c] >= x[g,c,l])\n",
        "\n",
        "        #if element is in group, that level is in the group\n",
        "        model.addConstr(level_in_group[g,l] >= x[g,c,l])\n",
        "\n",
        "        #if element is in that group, that group exists\n",
        "        model.addConstr(group_exists[g] >= x[g,c,l])\n",
        "\n",
        "  # print(\"add lvl constrs\")\n",
        "  for g in range(max_min_groups):\n",
        "    for l in range(n_levels):\n",
        "\n",
        "      #calculate upper, lower level\n",
        "      #NOTE: need to min(Ug) and max(Lg) for this to work\n",
        "      #NOTE: in julia, everything is 1 based, might need to adjust formulation to make everything work as 0-based\n",
        "      model.addConstr(l*level_in_group[g,l] <= group_upper_bound[g])\n",
        "      model.addConstr(l*level_in_group[g,l] + M*(1-level_in_group[g,l]) >= group_lower_bound[g])\n",
        "\n",
        "      #set Zl\n",
        "      model.addConstr(M*Zl[g,l] >= l-group_lower_bound[g]+1)\n",
        "      model.addConstr(M*(1-Zl[g,l]) >= group_lower_bound[g]-l)\n",
        "\n",
        "      #set Zu\n",
        "      model.addConstr(M*Zu[g,l] >= group_upper_bound[g]-l+1)\n",
        "      model.addConstr(M*(1-Zu[g,l]) >= l-group_upper_bound[g])\n",
        "\n",
        "      #if a level is within lower/upper bound, it's in the group\n",
        "      model.addConstr(1+level_in_group[g,l] >= Zu[g,l]+Zl[g,l])\n",
        "\n",
        "      # for c in range(n_cols):\n",
        "      #   #if column and level are in the group, so is the element\n",
        "      #   #todo: lazily constraint??\n",
        "      #   model.addConstr(column_in_group[g,c]+level_in_group[g,l] <= 1 + x[g,c,l])\n",
        "\n",
        "  model.setObjective(gp.quicksum(cost_section[i, j] for i, j in S.keys()) + GroupCost*gp.quicksum(group_exists) - gp.quicksum(group_upper_bound) + gp.quicksum(group_lower_bound),GRB.MINIMIZE)\n",
        "\n",
        "  model.setParam('TimeLimit', 1800)\n",
        "  model.setParam('SoftMemLimit', 10)\n",
        "\n",
        "  if opt in [4,6,7,8]:\n",
        "    model.Params.LazyConstraints = 1\n",
        "    model.optimize(lazy_callback)\n",
        "  else:\n",
        "    for g in range(max_min_groups):\n",
        "      for l in range(n_levels):\n",
        "        for c in range(n_cols):\n",
        "        #if column and level are in the group, so is the element\n",
        "          model.addConstr(column_in_group[g,c]+level_in_group[g,l] <= 1 + x[g,c,l])\n",
        "    model.optimize()\n",
        "\n",
        "  # return model, x, element_section, GroupCost, column_in_group, level_in_group, max_min_groups\n",
        "\n",
        "  # model.write(\"group-optim-toy.lp\")\n",
        "\n",
        "  # Optimize model\n",
        "\n",
        "  ns = 0\n",
        "\n",
        "\n",
        "  print(f\"Obj: {model.ObjVal:g}\")\n",
        "  print(f\"Time: {model.Runtime:g}\")\n",
        "  print(\"Memory Used (MiB): {}\".format(round(process.memory_info().rss / 1024 ** 2,2)))\n",
        "\n",
        "  try:\n",
        "\n",
        "    for v in model.getVars():\n",
        "      if \"group_exists\" in v.VarName and v.X > 0.5:\n",
        "        ns += 1\n",
        "    print(\"Groups: \", ns)\n",
        "\n",
        "\n",
        "    grouped_elements = np.full((n_cols, n_levels), 0)  # -1 as default (if element doesn't exist)\n",
        "\n",
        "    for g, i, j in x.keys():\n",
        "        if x[g, i, j].X > 0.5:  # Check if x[g, i, j] is active\n",
        "            grouped_elements[i, j] = g+1\n",
        "\n",
        "    print(\"Grouped elements: \", grouped_elements.tolist())\n",
        "\n",
        "    section_of_elements = np.full((n_cols, n_levels), 0)\n",
        "\n",
        "    for c, l in element_section.keys():\n",
        "        if element_section[c, l].X > 0.5:\n",
        "          section_of_elements[c, l] = element_section[c, l].X\n",
        "\n",
        "    print(\"Element sections: \", section_of_elements.tolist())\n",
        "\n",
        "  except:\n",
        "     print(\"NO SOLUTION\")\n",
        "\n",
        "  print(\"Original columns: \", test_data)\n",
        "  print(\"Section costs: \", SectionCost)\n",
        "  print(\"Group cost: \", GroupCost)\n",
        "\n",
        "\n",
        "\n",
        "\n",
        "  # heatmap(grouped_elements, section_of_elements)\n",
        "\n",
        "  print(\"---ALGORITHM END\")"
      ],
      "metadata": {
        "id": "KnkLGKAJkTPp"
      },
      "execution_count": null,
      "outputs": []
    },
    {
      "cell_type": "markdown",
      "source": [
        "## **Results**"
      ],
      "metadata": {
        "id": "Q48s09nVJUjv"
      }
    },
    {
      "cell_type": "markdown",
      "source": [
        "Given our improvements, we have a 8 different models. The following table shows which improvement has been implemented on each model.\n",
        "\n",
        "$$\n",
        "\\begin{array}{|c|c|c|c|c|c|c|c|c|}\n",
        "\\hline\n",
        "\\textbf{Variation:} & 1 & 2 & 3 & 4 & 5 & 6 & 7 & 8 \\\\\n",
        "\\hline\n",
        "\\text{Continuous Vars} &  & X &  &  & X & X &  & X \\\\\n",
        "\\text{Binary Element} &  &  & X &  & X &  & X & X \\\\\n",
        "\\text{Section Vars} &  &  &  &  &  &  &  &  \\\\\n",
        "\\text{Lazy Constraints} &  &  &  & X &  & X & X & X \\\\\n",
        "\\hline\n",
        "\\end{array}\n",
        "$$\n"
      ],
      "metadata": {
        "id": "xHEyw5AoJWm-"
      }
    },
    {
      "cell_type": "markdown",
      "source": [
        "In the following table we can see why each of the models for each instance stopped:\n",
        "$$\n",
        "\\begin{array}{|c|c|c|c|c|c|c|c|c|}\n",
        "\\hline\n",
        "\\textbf{Instance}  & 2 & 3 & 4 & 5 & 6 & 7 & 8 \\\\\n",
        "\\hline\n",
        "\\text{Mid-rise} & \\text{Time-out} & \\text{Time-out} & \\text{Time-out} & \\text{Mem-out} & \\text{Time-out} & \\text{Mem-out} & \\text{Mem-out}  \\\\\n",
        "\\text{LTC sections} & \\text{Time-out} & \\text{Time-out} & \\text{Time-out} & \\text{Time-out} & \\text{Time-out} & \\text{Time-out} & \\text{Mem-out}  \\\\\n",
        "\\text{LTC levels} & \\text{Time-out} & \\text{Time-out} & \\text{Time-out} & \\text{Time-out} & \\text{Time-out} & \\text{Time-out} &  \\text{Mem-out}\\\\\n",
        "\\text{Industrial} & \\text{Time-out} & \\text{Time-out} & \\text{Time-out} & \\text{Time-out} & \\text{Time-out} & \\text{Time-out} & \\text{Time-out}  \\\\\n",
        "\\hline\n",
        "\\end{array}\n",
        "$$\n"
      ],
      "metadata": {
        "id": "UleFOr-lJYTm"
      }
    },
    {
      "cell_type": "markdown",
      "source": [
        "# **Phase Two Improvements**"
      ],
      "metadata": {
        "id": "Rxpi6qKHJbYc"
      }
    },
    {
      "cell_type": "markdown",
      "source": [
        "After obtaining feedback from colleagues, two new ideas were proposed: symmetry breaking constraints, and clique constraints. The following section will detail each one individiaully, and then present results from an ablation study for these improvements.\n",
        "\n",
        "## Symmetry Breaking Constraints\n",
        "\n",
        "### Motivation\n",
        "\n",
        "One issue with the formulation is there is a large degree of symmetry. For example, Group 1 containing elements {(1,3),(2,3)} and Group 2 containing elements {("
      ],
      "metadata": {
        "id": "hP4OBrcKJjA_"
      }
    }
  ],
  "metadata": {
    "kernelspec": {
      "display_name": "Python 3",
      "language": "python",
      "name": "python3"
    },
    "language_info": {
      "name": "python",
      "version": "3.11.4"
    },
    "colab": {
      "provenance": []
    }
  },
  "nbformat": 4,
  "nbformat_minor": 0
}