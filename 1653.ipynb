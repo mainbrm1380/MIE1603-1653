{
  "nbformat": 4,
  "nbformat_minor": 0,
  "metadata": {
    "colab": {
      "provenance": []
    },
    "kernelspec": {
      "name": "python3",
      "display_name": "Python 3"
    },
    "language_info": {
      "name": "python"
    }
  },
  "cells": [
    {
      "cell_type": "code",
      "execution_count": 29,
      "metadata": {
        "colab": {
          "base_uri": "https://localhost:8080/"
        },
        "id": "jvv1us3R9Suo",
        "outputId": "3f989f39-ea6b-4e6e-dc8a-63d4155a35ce"
      },
      "outputs": [
        {
          "output_type": "stream",
          "name": "stdout",
          "text": [
            "Requirement already satisfied: gurobipy in /usr/local/lib/python3.11/dist-packages (12.0.1)\n"
          ]
        }
      ],
      "source": [
        "!pip install gurobipy"
      ]
    },
    {
      "cell_type": "code",
      "source": [
        "def test_heatmap(section_of_elements, grouped_elements, plot_sections = True):\n",
        "  unique_values = np.unique(section_of_elements)\n",
        "\n",
        "  if plot_sections:\n",
        "    unique_values = unique_values[unique_values > 0]  # Exclude zero\n",
        "  else:\n",
        "    unique_values = unique_values[unique_values != -1]  # Exclude -1\n",
        "\n",
        "  palette = sns.color_palette(\"viridis\", len(unique_values))\n",
        "\n",
        "  # add white color for zero (-1) values\n",
        "  cmap = mcolors.ListedColormap([(1, 1, 1)] + palette)  # White for zero (-1), then mapped colors\n",
        "\n",
        "  # mapping of values to color indices\n",
        "  value_to_color_idx = {val: i+1 for i, val in enumerate(unique_values)}\n",
        "\n",
        "  if plot_sections:\n",
        "    value_to_color_idx[0] = 0\n",
        "  else:\n",
        "    value_to_color_idx[-1] = 0\n",
        "\n",
        "  # array values to color indices\n",
        "  color_indices = np.vectorize(value_to_color_idx.get)(section_of_elements)\n",
        "\n",
        "  if plot_sections:\n",
        "    sns.heatmap(np.rot90(section_of_elements), annot=np.rot90(grouped_elements), cmap=cmap,\n",
        "              linewidths=0.5, linecolor=\"black\", cbar=True)\n",
        "  else:\n",
        "    sns.heatmap(np.rot90(section_of_elements), annot=np.rot90(grouped_elements), cmap=cmap,\n",
        "              linewidths=0.5, linecolor=\"black\", cbar=False)\n",
        "\n",
        "  if plot_sections:\n",
        "    plt.title(\"Section of elements\")\n",
        "  else:\n",
        "    plt.title(\"Grouping of elements\")\n",
        "  plt.xlabel(\"Column\")\n",
        "  plt.ylabel(\"Level\")\n",
        "  plt.yticks(ticks=np.arange(n_levels), labels=range(n_levels - 1, -1, -1), rotation=0)\n",
        "\n",
        "  plt.show()"
      ],
      "metadata": {
        "id": "yj_BDJjp6fdN"
      },
      "execution_count": 30,
      "outputs": []
    },
    {
      "cell_type": "code",
      "source": [
        "import gurobipy as gp\n",
        "from gurobipy import GRB"
      ],
      "metadata": {
        "id": "_KwSnoDB9ckh"
      },
      "execution_count": 31,
      "outputs": []
    },
    {
      "cell_type": "code",
      "source": [
        "\n",
        "test_data = [[0,2,1,1,0],[1,1,1,1,0]] #e_ij = 1 if col i exists at level j, bottom to top\n",
        "\n",
        "\n",
        "n_cols = len(test_data)\n",
        "n_levels = len(test_data[0])\n",
        "max_min_groups = 4 #min(n_cols,n_levels) #TODO: NEED NEW HEURISTIC FOR THIS\n",
        "M = n_levels + 2\n",
        "\n",
        "Xgcl = [(g,c,l) for l in range(n_levels) for c in range(n_cols) for g in range(max_min_groups)]\n",
        "\n",
        "S = {(i,j): test_data[i][j] for j in range(n_levels) for i in range(n_cols)}\n",
        "E = {(i,j): 1 if test_data[i][j] > 0 else 0 for j in range(n_levels) for i in range(n_cols)}\n",
        "sections = set(l for l in S.values())\n",
        "\n",
        "# Create a new model\n",
        "model = gp.Model(\"Grouping-Optimization\")\n",
        "\n",
        "# # Create variables\n",
        "\n",
        "x = model.addVars(Xgcl, vtype = GRB.BINARY, name=\"x\")\n",
        "\n",
        "#marginal_section_cost = 50\n",
        "marginal_section_cost = [0,20,70]\n",
        "\n",
        "group_exists = model.addVars(max_min_groups, vtype = GRB.BINARY, name=\"group\")\n",
        "column_in_group = model.addVars(max_min_groups, n_cols, vtype = GRB.BINARY, name=\"col_in_group\")\n",
        "level_in_group = model.addVars(max_min_groups, n_levels, vtype = GRB.BINARY, name=\"level_in_group\")\n",
        "\n",
        "# can these be continuous? or must be int?\n",
        "group_lower_bound = model.addVars(max_min_groups, vtype = GRB.INTEGER, name=\"group_lb\", lb = 0, ub = n_levels) # upper bound be n_levels-1?\n",
        "group_upper_bound = model.addVars(max_min_groups, vtype = GRB.INTEGER, name=\"group_ub\", lb = 0, ub = n_levels)\n",
        "group_level_range = model.addVars(max_min_groups, vtype = GRB.INTEGER, name=\"group_range\", lb = 0, ub = n_levels)\n",
        "\n",
        "#section size variables\n",
        "#done as binary? or as integer? try both: use worse/better for ablation\n",
        "group_section = model.addVars(max_min_groups, vtype = GRB.INTEGER, name=\"group_section\", lb = 0, ub = max(sections))\n",
        "element_section = model.addVars(S.keys(), vtype=GRB.INTEGER, name=\"element_section\", lb=0, ub = max(sections))\n",
        "# binary variables y[i,j,k] that are 1 if element_section[i,j] == k\n",
        "y = model.addVars(S.keys(), range(len(marginal_section_cost)), vtype=GRB.BINARY, name=\"y\")\n",
        "\n",
        "# cost variables for element_section\n",
        "cost_section = model.addVars(S.keys(), vtype=GRB.CONTINUOUS, name=\"cost_section\")\n",
        "\n",
        "# Ensure each element_section[i,j] has exactly one assigned level\n",
        "# Zs = model.addVars(Xgcl, vtype = GRB.BINARY, name = \"Zs\") #if group section = element section\n",
        "\n",
        "#each group is same section\n",
        "#group section has to be >= section of element\n",
        "#take min of cost_of_section * num of elements with that section\n",
        "#^either count # of sections in each group, and linearize cost_of_section var * # sections\n",
        "#that is for integer version, binary version has binary var for which section a grou phas, times its cost, times number of elements\n",
        "# or has bin var for section of each element, and multiple by cost of that section.\n",
        "# 4 variations??\n",
        "M_sections = max(sections)+1\n",
        "\n",
        "Zu = model.addVars(max_min_groups, n_levels, vtype = GRB.BINARY, name=\"Zu\")\n",
        "Zl = model.addVars(max_min_groups, n_levels, vtype = GRB.BINARY, name=\"Zl\")"
      ],
      "metadata": {
        "id": "RIBgF2Rx9vtQ"
      },
      "execution_count": 32,
      "outputs": []
    },
    {
      "cell_type": "code",
      "source": [
        "for c in range(n_cols):\n",
        "  for l in range(n_levels):\n",
        "    #sum of Xgcl over all groups must = if col at that level exists\n",
        "    model.addConstr(gp.quicksum(x[g,c,l] for g in range(max_min_groups)) == E[c,l])\n",
        "    model.addConstr(element_section[c,l] >= S[c,l])\n",
        "\n",
        "for g in range(max_min_groups):\n",
        "  #range of group g = upper bound - lower bound\n",
        "  model.addConstr(group_level_range[g] == group_upper_bound[g] - group_lower_bound[g])\n",
        "\n",
        "  for c in range(n_cols):\n",
        "    for l in range(n_levels):\n",
        "\n",
        "      #if element is in a group, it's section is at least the group's\n",
        "      #if not in the group, it's greater than (at most) 0\n",
        "      model.addConstr(element_section[c,l] >= group_section[g] - M_sections*(1-x[g,c,l]))\n",
        "      model.addConstr(element_section[c,l] <= group_section[g] + M_sections*(1-x[g,c,l]))\n",
        "\n",
        "      #if element is in group, that column is in the group\n",
        "      model.addConstr(column_in_group[g,c] >= x[g,c,l])\n",
        "\n",
        "      #if element is in group, that level is in the group\n",
        "      model.addConstr(level_in_group[g,l] >= x[g,c,l])\n",
        "\n",
        "      #if element is in that group, that group exists\n",
        "      model.addConstr(group_exists[g] >= x[g,c,l])\n",
        "\n",
        "for g in range(max_min_groups):\n",
        "  for l in range(n_levels):\n",
        "\n",
        "    #calculate upper, lower level\n",
        "    #NOTE: need to min(Ug) and max(Lg) for this to work\n",
        "    #NOTE: in julia, everything is 1 based, might need to adjust formulation to make everything work as 0-based\n",
        "    model.addConstr(l*level_in_group[g,l] <= group_upper_bound[g])\n",
        "    model.addConstr(l*level_in_group[g,l] + M*(1-level_in_group[g,l]) >= group_lower_bound[g])\n",
        "\n",
        "    #set Zl\n",
        "    model.addConstr(M*Zl[g,l] >= l-group_lower_bound[g]+1)\n",
        "    model.addConstr(M*(1-Zl[g,l]) >= group_lower_bound[g]-l)\n",
        "\n",
        "    #set Zu\n",
        "    model.addConstr(M*Zu[g,l] >= group_upper_bound[g]-l+1)\n",
        "    model.addConstr(M*(1-Zu[g,l]) >= l-group_upper_bound[g])\n",
        "\n",
        "    #if a level is within lower/upper bound, it's in the group\n",
        "    # to add the following as lazy constraint (not now)\n",
        "    model.addConstr(1+level_in_group[g,l] >= Zu[g,l]+Zl[g,l])\n",
        "\n",
        "    # for c in range(n_cols):\n",
        "    # #   #if column and level are in the group, so is the element\n",
        "    # #   #todo: lazily constraint??\n",
        "    #   model.addConstr(column_in_group[g,c]+level_in_group[g,l] <= 1 + x[g,c,l])\n",
        "\n",
        "for i, j in S.keys():\n",
        "    model.addConstr(gp.quicksum(y[i, j, k] for k in range(len(marginal_section_cost))) == 1)\n",
        "\n",
        "    for k in range(len(marginal_section_cost)):\n",
        "        model.addConstr((y[i, j, k] == 1) >> (element_section[i, j] == k))  # Enforce correct index\n",
        "        model.addConstr((y[i, j, k] == 1) >> (cost_section[i, j] == marginal_section_cost[k]))"
      ],
      "metadata": {
        "id": "4etiYYBS-IwZ"
      },
      "execution_count": 33,
      "outputs": []
    },
    {
      "cell_type": "code",
      "source": [
        "def lazy_callback(model, where):\n",
        "    if where == GRB.Callback.MIPSOL:  # Check if a new solution is found\n",
        "        # Retrieve the values of decision variables at the current solution\n",
        "        column_vals = model.cbGetSolution(column_in_group)\n",
        "        level_vals = model.cbGetSolution(level_in_group)\n",
        "        x_vals = model.cbGetSolution(x)\n",
        "\n",
        "        # Iterate through indices and add violated constraints\n",
        "        for g in range(max_min_groups):\n",
        "            for l in range(n_levels):\n",
        "                for c in range(n_cols):\n",
        "                    lhs = column_vals[g, c] + level_vals[g, l]  # Left-hand side\n",
        "                    rhs = 1 + x_vals[g, c, l]  # Right-hand side\n",
        "                    if lhs > rhs + 1e-6:  # Constraint is violated\n",
        "                        model.cbLazy(column_in_group[g, c] + level_in_group[g, l] <= 1 + x[g, c, l])"
      ],
      "metadata": {
        "id": "pE728pPeHWtb"
      },
      "execution_count": 34,
      "outputs": []
    },
    {
      "cell_type": "code",
      "source": [
        "model.setObjective(gp.quicksum(cost_section[i, j] for i, j in S.keys()) + 100*gp.quicksum(group_exists),GRB.MINIMIZE)"
      ],
      "metadata": {
        "colab": {
          "base_uri": "https://localhost:8080/"
        },
        "id": "e2XAij8y-YCo",
        "outputId": "da981f24-73e0-4bcb-ca08-99b5916e16ac"
      },
      "execution_count": 35,
      "outputs": [
        {
          "output_type": "stream",
          "name": "stderr",
          "text": [
            "<ipython-input-35-5a5697e5e598>:1: DeprecationWarning: Calling quicksum on a tupledict is deprecated, use .sum() instead.\n",
            "  model.setObjective(gp.quicksum(cost_section[i, j] for i, j in S.keys()) + 100*gp.quicksum(group_exists),GRB.MINIMIZE)\n"
          ]
        }
      ]
    },
    {
      "cell_type": "code",
      "source": [
        "# model.write(\"group-optim-toy.lp\")\n",
        "\n",
        "# Optimize model\n",
        "model.Params.LazyConstraints = 1\n",
        "\n",
        "model.optimize(lazy_callback)\n",
        "\n",
        "#model.optimize()\n",
        "\n",
        "if model.status == GRB.OPTIMAL or model.status == GRB.SUBOPTIMAL:\n",
        "  for v in model.getVars():\n",
        "      if v.X > 0.5:\n",
        "          print(f\"{v.VarName}, {v.x:g}\") #{v.X:g}\")\n",
        "\n",
        "  print(f\"Obj: {model.ObjVal:g}\")\n",
        "  print(f\"Time: {model.Runtime:g}\")\n",
        "else:\n",
        "  print(f\"Optimization failed with status: {model.status}\")"
      ],
      "metadata": {
        "colab": {
          "base_uri": "https://localhost:8080/"
        },
        "id": "BnKR__nb-fWL",
        "outputId": "748c6669-8edd-433f-b44a-b5b6c7899b1b"
      },
      "execution_count": 36,
      "outputs": [
        {
          "output_type": "stream",
          "name": "stdout",
          "text": [
            "Set parameter LazyConstraints to value 1\n",
            "Gurobi Optimizer version 12.0.1 build v12.0.1rc0 (linux64 - \"Ubuntu 22.04.4 LTS\")\n",
            "\n",
            "CPU model: AMD EPYC 7B12, instruction set [SSE2|AVX|AVX2]\n",
            "Thread count: 1 physical cores, 2 logical processors, using up to 2 threads\n",
            "\n",
            "Non-default parameters:\n",
            "LazyConstraints  1\n",
            "\n",
            "Optimize a model with 374 rows, 178 columns and 868 nonzeros\n",
            "Model fingerprint: 0xb6892454\n",
            "Model has 60 simple general constraints\n",
            "  60 INDICATOR\n",
            "Variable types: 10 continuous, 168 integer (142 binary)\n",
            "Coefficient statistics:\n",
            "  Matrix range     [1e+00, 7e+00]\n",
            "  Objective range  [1e+00, 1e+02]\n",
            "  Bounds range     [1e+00, 5e+00]\n",
            "  RHS range        [1e+00, 1e+01]\n",
            "  GenCon rhs range [1e+00, 7e+01]\n",
            "  GenCon coe range [1e+00, 1e+00]\n",
            "Presolve removed 92 rows and 43 columns\n",
            "Presolve time: 0.01s\n",
            "Presolved: 282 rows, 135 columns, 747 nonzeros\n",
            "Presolved model has 9 SOS constraint(s)\n",
            "Variable types: 9 continuous, 126 integer (107 binary)\n",
            "Found heuristic solution: objective 600.0000000\n",
            "\n",
            "Root relaxation: objective 2.900000e+02, 112 iterations, 0.00 seconds (0.00 work units)\n",
            "\n",
            "    Nodes    |    Current Node    |     Objective Bounds      |     Work\n",
            " Expl Unexpl |  Obj  Depth IntInf | Incumbent    BestBd   Gap | It/Node Time\n",
            "\n",
            "     0     0  290.00000    0   22  600.00000  290.00000  51.7%     -    0s\n",
            "H    0     0                     580.0000000  290.00000  50.0%     -    0s\n",
            "     0     0  290.00000    0   32  580.00000  290.00000  50.0%     -    0s\n",
            "H    0     0                     560.0000000  290.00000  48.2%     -    0s\n",
            "     0     0  365.00000    0   67  560.00000  365.00000  34.8%     -    0s\n",
            "     0     0  384.55807    0   82  560.00000  384.55807  31.3%     -    0s\n",
            "H    0     0                     490.0000000  390.00000  20.4%     -    0s\n",
            "     0     0  390.00000    0   82  490.00000  390.00000  20.4%     -    0s\n",
            "     0     0  390.00000    0   81  490.00000  390.00000  20.4%     -    0s\n",
            "     0     0  390.00000    0   76  490.00000  390.00000  20.4%     -    0s\n",
            "     0     0  390.00000    0   75  490.00000  390.00000  20.4%     -    0s\n",
            "     0     0  390.00000    0   80  490.00000  390.00000  20.4%     -    0s\n",
            "     0     0  390.00000    0   82  490.00000  390.00000  20.4%     -    0s\n",
            "     0     0  390.00000    0   85  490.00000  390.00000  20.4%     -    0s\n",
            "     0     0  390.00000    0   82  490.00000  390.00000  20.4%     -    0s\n",
            "     0     0  390.00000    0   78  490.00000  390.00000  20.4%     -    0s\n",
            "     0     0  390.00000    0   78  490.00000  390.00000  20.4%     -    0s\n",
            "     0     2  390.00000    0   76  490.00000  390.00000  20.4%     -    0s\n",
            "\n",
            "Cutting planes:\n",
            "  Learned: 32\n",
            "  Gomory: 3\n",
            "  Cover: 7\n",
            "  Implied bound: 7\n",
            "  Clique: 1\n",
            "  MIR: 10\n",
            "  StrongCG: 2\n",
            "  Mod-K: 1\n",
            "  Network: 1\n",
            "  RLT: 2\n",
            "  Relax-and-lift: 1\n",
            "  BQP: 1\n",
            "  Lazy constraints: 19\n",
            "\n",
            "Explored 99 nodes (1831 simplex iterations) in 0.26 seconds (0.06 work units)\n",
            "Thread count was 2 (of 2 available processors)\n",
            "\n",
            "Solution count 4: 490 560 580 600 \n",
            "\n",
            "Optimal solution found (tolerance 1.00e-04)\n",
            "Best objective 4.900000000000e+02, best bound 4.900000000000e+02, gap 0.0000%\n",
            "\n",
            "User-callback calls 859, time in user-callback 0.01 sec\n",
            "x[3,1,0], 1\n",
            "x[0,0,1], 1\n",
            "x[3,1,1], 1\n",
            "x[1,0,2], 1\n",
            "x[1,1,2], 1\n",
            "x[1,0,3], 1\n",
            "x[1,1,3], 1\n",
            "group[0], 1\n",
            "group[1], 1\n",
            "group[3], 1\n",
            "col_in_group[0,0], 1\n",
            "col_in_group[1,0], 1\n",
            "col_in_group[1,1], 1\n",
            "col_in_group[3,1], 1\n",
            "level_in_group[0,1], 1\n",
            "level_in_group[1,2], 1\n",
            "level_in_group[1,3], 1\n",
            "level_in_group[2,1], 1\n",
            "level_in_group[3,0], 1\n",
            "level_in_group[3,1], 1\n",
            "group_lb[0], 1\n",
            "group_lb[1], 2\n",
            "group_lb[2], 1\n",
            "group_ub[0], 1\n",
            "group_ub[1], 3\n",
            "group_ub[2], 1\n",
            "group_ub[3], 1\n",
            "group_range[1], 1\n",
            "group_range[3], 1\n",
            "group_section[0], 2\n",
            "group_section[1], 1\n",
            "group_section[3], 1\n",
            "element_section[1,0], 1\n",
            "element_section[0,1], 2\n",
            "element_section[1,1], 1\n",
            "element_section[0,2], 1\n",
            "element_section[1,2], 1\n",
            "element_section[0,3], 1\n",
            "element_section[1,3], 1\n",
            "y[0,0,0], 1\n",
            "y[1,0,1], 1\n",
            "y[0,1,2], 1\n",
            "y[1,1,1], 1\n",
            "y[0,2,1], 1\n",
            "y[1,2,1], 1\n",
            "y[0,3,1], 1\n",
            "y[1,3,1], 1\n",
            "y[0,4,0], 1\n",
            "y[1,4,0], 1\n",
            "cost_section[1,0], 20\n",
            "cost_section[0,1], 70\n",
            "cost_section[1,1], 20\n",
            "cost_section[0,2], 20\n",
            "cost_section[1,2], 20\n",
            "cost_section[0,3], 20\n",
            "cost_section[1,3], 20\n",
            "Zu[0,0], 1\n",
            "Zu[0,1], 1\n",
            "Zu[1,0], 1\n",
            "Zu[1,1], 1\n",
            "Zu[1,2], 1\n",
            "Zu[1,3], 1\n",
            "Zu[2,0], 1\n",
            "Zu[2,1], 1\n",
            "Zu[3,0], 1\n",
            "Zu[3,1], 1\n",
            "Zl[0,1], 1\n",
            "Zl[0,2], 1\n",
            "Zl[0,3], 1\n",
            "Zl[0,4], 1\n",
            "Zl[1,2], 1\n",
            "Zl[1,3], 1\n",
            "Zl[1,4], 1\n",
            "Zl[2,1], 1\n",
            "Zl[2,2], 1\n",
            "Zl[2,3], 1\n",
            "Zl[2,4], 1\n",
            "Zl[3,0], 1\n",
            "Zl[3,1], 1\n",
            "Zl[3,2], 1\n",
            "Zl[3,3], 1\n",
            "Zl[3,4], 1\n",
            "Obj: 490\n",
            "Time: 0.267097\n"
          ]
        }
      ]
    },
    {
      "cell_type": "code",
      "source": [
        "import numpy as np\n",
        "\n",
        "grouped_elements = np.full((n_cols, n_levels), -1)  # -1 as default (if element doesn't exist)\n",
        "\n",
        "for g, i, j in x.keys():\n",
        "    if x[g, i, j].X > 0.5:  # Check if x[g, i, j] is active\n",
        "        grouped_elements[i, j] = g\n",
        "\n",
        "print(grouped_elements)"
      ],
      "metadata": {
        "colab": {
          "base_uri": "https://localhost:8080/"
        },
        "id": "Xv6rEqetVtde",
        "outputId": "70244ea2-9ce6-40ea-f2c5-f50a62ef8c0e"
      },
      "execution_count": 37,
      "outputs": [
        {
          "output_type": "stream",
          "name": "stdout",
          "text": [
            "[[-1  0  1  1 -1]\n",
            " [ 3  3  1  1 -1]]\n"
          ]
        }
      ]
    },
    {
      "cell_type": "code",
      "source": [
        "section_of_elements = np.full((n_cols, n_levels), 0)\n",
        "\n",
        "for i, j in element_section.keys():\n",
        "    section_of_elements[i, j] = element_section[i, j].X\n",
        "\n",
        "print(section_of_elements)"
      ],
      "metadata": {
        "colab": {
          "base_uri": "https://localhost:8080/"
        },
        "id": "1Eownyvo5YJo",
        "outputId": "d9999c8d-327d-4b9b-809b-aa10403f38ed"
      },
      "execution_count": 38,
      "outputs": [
        {
          "output_type": "stream",
          "name": "stdout",
          "text": [
            "[[0 2 1 1 0]\n",
            " [1 1 1 1 0]]\n"
          ]
        }
      ]
    },
    {
      "cell_type": "code",
      "source": [
        "# two heatmaps: one: color for representing groups and number representing the group section and vice versa\n",
        "import seaborn as sns\n",
        "import matplotlib.pyplot as plt\n",
        "import matplotlib.colors as mcolors\n",
        "\n",
        "def plot_heatmap(grouped_elements, section_of_elements, plot_sections = False):\n",
        "  unique_vals = np.unique(grouped_elements)\n",
        "\n",
        "  if plot_sections:\n",
        "    unique_vals = unique_vals[unique_vals > 0]\n",
        "    section_of_elements = np.where(section_of_elements == -1, 0, section_of_elements)\n",
        "  else:\n",
        "    unique_vals = unique_vals[unique_vals != -1]\n",
        "\n",
        "  print(section_of_elements)\n",
        "\n",
        "  rotated_grouped_elements = np.rot90(grouped_elements, k=1)\n",
        "\n",
        "  rotated_section_of_elements = np.rot90(section_of_elements, k=1)\n",
        "\n",
        "  num_classes = len(unique_vals)  # Number of unique values (excluding -1)\n",
        "  colors = sns.color_palette(\"tab10\", num_classes)  # Get distinct colors\n",
        "  colors = [(1, 1, 1)] + colors  # white color for -1\n",
        "  #colors[0] = [(1, 1, 1)]  # white color for -1\n",
        "  print(colors)\n",
        "  cmap = mcolors.ListedColormap(colors)\n",
        "  print(cmap)\n",
        "\n",
        "  bounds = np.arange(-1, num_classes + 1) - 0.5\n",
        "  norm = mcolors.BoundaryNorm(bounds, cmap.N)\n",
        "\n",
        "  print(rotated_grouped_elements)\n",
        "\n",
        "  plt.figure(figsize=(6, 5))\n",
        "  sns.heatmap(rotated_grouped_elements, cmap=cmap, norm=norm, linewidths=0.5,\n",
        "              linecolor='black', annot=rotated_section_of_elements, cbar=False)\n",
        "\n",
        "  plt.title(\"Grouping of elements\")\n",
        "  plt.xlabel(\"Column\")\n",
        "  plt.ylabel(\"Level\")\n",
        "  plt.yticks(ticks=np.arange(n_levels), labels=range(n_levels - 1, -1, -1), rotation=0)\n",
        "\n",
        "  plt.show()"
      ],
      "metadata": {
        "id": "9Zp6HkusWReD"
      },
      "execution_count": 39,
      "outputs": []
    },
    {
      "cell_type": "code",
      "source": [
        "test_data_rotated = np.rot90(np.array(test_data), k=1)\n",
        "\n",
        "unique_values = np.unique(test_data_rotated)\n",
        "unique_values = unique_values[unique_values > 0]\n",
        "\n",
        "palette = sns.color_palette(\"viridis\", len(unique_values))\n",
        "\n",
        "cmap = mcolors.ListedColormap([(1, 1, 1)] + palette)\n",
        "\n",
        "value_to_color_idx = {val: i+1 for i, val in enumerate(unique_values)}\n",
        "value_to_color_idx[0] = 0\n",
        "\n",
        "color_indices = np.vectorize(value_to_color_idx.get)(test_data_rotated)\n",
        "\n",
        "sns.heatmap(test_data_rotated, annot=True, cmap=cmap,\n",
        "            linewidths=0.5, linecolor=\"black\", cbar=True)\n",
        "\n",
        "plt.title(\"Section size of each Element\")\n",
        "plt.xlabel(\"Column\")\n",
        "plt.ylabel(\"Level\")\n",
        "plt.yticks(ticks=np.arange(n_levels), labels=range(n_levels - 1, -1, -1), rotation=0)\n",
        "\n",
        "plt.show()"
      ],
      "metadata": {
        "id": "QKarkPCCF1Rh",
        "colab": {
          "base_uri": "https://localhost:8080/",
          "height": 472
        },
        "outputId": "e954eaed-7f1d-45f3-99e1-7231a984efba"
      },
      "execution_count": 40,
      "outputs": [
        {
          "output_type": "display_data",
          "data": {
            "text/plain": [
              "<Figure size 640x480 with 2 Axes>"
            ],
            "image/png": "[encoded data removed]"
          },
          "metadata": {}
        }
      ]
    },
    {
      "cell_type": "code",
      "source": [
        "test_heatmap(grouped_elements, section_of_elements, False)"
      ],
      "metadata": {
        "colab": {
          "base_uri": "https://localhost:8080/",
          "height": 472
        },
        "id": "q5xtXZf__uXd",
        "outputId": "a94d056a-734e-48e1-ba74-7f8768111292"
      },
      "execution_count": 41,
      "outputs": [
        {
          "output_type": "display_data",
          "data": {
            "text/plain": [
              "<Figure size 640x480 with 1 Axes>"
            ],
            "image/png": "[encoded data removed]"
          },
          "metadata": {}
        }
      ]
    },
    {
      "cell_type": "code",
      "source": [
        "test_heatmap(section_of_elements, grouped_elements)"
      ],
      "metadata": {
        "colab": {
          "base_uri": "https://localhost:8080/",
          "height": 472
        },
        "id": "3TKKT99XBLfX",
        "outputId": "66248fa1-51b5-40cf-c8bb-d9ffbdac1102"
      },
      "execution_count": 42,
      "outputs": [
        {
          "output_type": "display_data",
          "data": {
            "text/plain": [
              "<Figure size 640x480 with 2 Axes>"
            ],
            "image/png": "[encoded data removed]"
          },
          "metadata": {}
        }
      ]
    }
  ]
}