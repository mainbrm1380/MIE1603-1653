{
  "cells": [
    {
      "cell_type": "code",
      "execution_count": 17,
      "metadata": {
        "colab": {
          "base_uri": "https://localhost:8080/"
        },
        "id": "jvv1us3R9Suo",
        "outputId": "3f989f39-ea6b-4e6e-dc8a-63d4155a35ce"
      },
      "outputs": [
        {
          "name": "stdout",
          "output_type": "stream",
          "text": [
            "Requirement already satisfied: gurobipy in c:\\users\\daniel\\appdata\\local\\programs\\python\\python311\\lib\\site-packages (12.0.1)\n"
          ]
        },
        {
          "name": "stderr",
          "output_type": "stream",
          "text": [
            "\n",
            "[notice] A new release of pip is available: 24.3.1 -> 25.0.1\n",
            "[notice] To update, run: python.exe -m pip install --upgrade pip\n"
          ]
        }
      ],
      "source": [
        "!pip install gurobipy"
      ]
    },
    {
      "cell_type": "code",
      "execution_count": 18,
      "metadata": {
        "id": "yj_BDJjp6fdN"
      },
      "outputs": [],
      "source": [
        "def test_heatmap(section_of_elements, grouped_elements, plot_sections = True):\n",
        "  unique_values = np.unique(section_of_elements)\n",
        "\n",
        "  if plot_sections:\n",
        "    unique_values = unique_values[unique_values > 0]  # Exclude zero\n",
        "  else:\n",
        "    unique_values = unique_values[unique_values != -1]  # Exclude -1\n",
        "\n",
        "  palette = sns.color_palette(\"viridis\", len(unique_values))\n",
        "\n",
        "  # add white color for zero (-1) values\n",
        "  cmap = mcolors.ListedColormap([(1, 1, 1)] + palette)  # White for zero (-1), then mapped colors\n",
        "\n",
        "  # mapping of values to color indices\n",
        "  value_to_color_idx = {val: i+1 for i, val in enumerate(unique_values)}\n",
        "\n",
        "  if plot_sections:\n",
        "    value_to_color_idx[0] = 0\n",
        "  else:\n",
        "    value_to_color_idx[-1] = 0\n",
        "\n",
        "  # array values to color indices\n",
        "  color_indices = np.vectorize(value_to_color_idx.get)(section_of_elements)\n",
        "\n",
        "  if plot_sections:\n",
        "    sns.heatmap(np.rot90(section_of_elements), annot=np.rot90(grouped_elements), cmap=cmap,\n",
        "              linewidths=0.5, linecolor=\"black\", cbar=True)\n",
        "  else:\n",
        "    sns.heatmap(np.rot90(section_of_elements), annot=np.rot90(grouped_elements), cmap=cmap,\n",
        "              linewidths=0.5, linecolor=\"black\", cbar=False)\n",
        "\n",
        "  if plot_sections:\n",
        "    plt.title(\"Section of elements\")\n",
        "  else:\n",
        "    plt.title(\"Grouping of elements\")\n",
        "  plt.xlabel(\"Column\")\n",
        "  plt.ylabel(\"Level\")\n",
        "  plt.yticks(ticks=np.arange(n_levels), labels=range(n_levels - 1, -1, -1), rotation=0)\n",
        "\n",
        "  plt.show()"
      ]
    },
    {
      "cell_type": "code",
      "execution_count": 19,
      "metadata": {
        "id": "_KwSnoDB9ckh"
      },
      "outputs": [],
      "source": [
        "import gurobipy as gp\n",
        "from gurobipy import GRB"
      ]
    },
    {
      "cell_type": "code",
      "execution_count": null,
      "metadata": {
        "id": "RIBgF2Rx9vtQ"
      },
      "outputs": [],
      "source": [
        "\n",
        "test_data = [[0,2,2,1,0],[1,1,1,1,0]] #e_ij = 1 if col i exists at level j, bottom to top\n",
        "\n",
        "\n",
        "n_cols = len(test_data)\n",
        "n_levels = len(test_data[0])\n",
        "max_min_groups = 4 #min(n_cols,n_levels) #TODO: NEED NEW HEURISTIC FOR THIS\n",
        "M = n_levels + 2\n",
        "\n",
        "Xgcl = [(g,c,l) for l in range(n_levels) for c in range(n_cols) for g in range(max_min_groups)]\n",
        "\n",
        "S = {(i,j): test_data[i][j] for j in range(n_levels) for i in range(n_cols)}\n",
        "E = {(i,j): 1 if test_data[i][j] > 0 else 0 for j in range(n_levels) for i in range(n_cols)}\n",
        "sections = set(l for l in S.values())\n",
        "\n",
        "# Create a new model\n",
        "model = gp.Model(\"Grouping-Optimization\")\n",
        "\n",
        "# # Create variables\n",
        "\n",
        "x = model.addVars(Xgcl, vtype = GRB.BINARY, name=\"x\")\n",
        "\n",
        "#marginal_section_cost = 50\n",
        "marginal_section_cost = [0,20,70]\n",
        "\n",
        "group_exists = model.addVars(max_min_groups, vtype = GRB.BINARY, name=\"group\")\n",
        "column_in_group = model.addVars(max_min_groups, n_cols, vtype = GRB.BINARY, name=\"col_in_group\")\n",
        "level_in_group = model.addVars(max_min_groups, n_levels, vtype = GRB.BINARY, name=\"level_in_group\")\n",
        "\n",
        "# can these be continuous? or must be int?\n",
        "group_lower_bound = model.addVars(max_min_groups, vtype = GRB.INTEGER, name=\"group_lb\", lb = 0, ub = n_levels) # upper bound be n_levels-1?\n",
        "group_upper_bound = model.addVars(max_min_groups, vtype = GRB.INTEGER, name=\"group_ub\", lb = 0, ub = n_levels)\n",
        "group_level_range = model.addVars(max_min_groups, vtype = GRB.INTEGER, name=\"group_range\", lb = 0, ub = n_levels)\n",
        "\n",
        "#section size variables\n",
        "#done as binary? or as integer? try both: use worse/better for ablation\n",
        "group_section = model.addVars(max_min_groups, vtype = GRB.INTEGER, name=\"group_section\", lb = 0, ub = max(sections))\n",
        "element_section = model.addVars(S.keys(), vtype=GRB.INTEGER, name=\"element_section\", lb=0, ub = max(sections))\n",
        "# binary variables y[i,j,k] that are 1 if element_section[i,j] == k\n",
        "y = model.addVars(S.keys(), range(len(marginal_section_cost)), vtype=GRB.BINARY, name=\"y\")\n",
        "\n",
        "# cost variables for element_section\n",
        "cost_section = model.addVars(S.keys(), vtype=GRB.CONTINUOUS, name=\"cost_section\")\n",
        "\n",
        "# Ensure each element_section[i,j] has exactly one assigned level\n",
        "# Zs = model.addVars(Xgcl, vtype = GRB.BINARY, name = \"Zs\") #if group section = element section\n",
        "\n",
        "#each group is same section\n",
        "#group section has to be >= section of element\n",
        "#take min of cost_of_section * num of elements with that section\n",
        "#^either count # of sections in each group, and linearize cost_of_section var * # sections\n",
        "#that is for integer version, binary version has binary var for which section a grou phas, times its cost, times number of elements\n",
        "# or has bin var for section of each element, and multiple by cost of that section.\n",
        "# 4 variations??\n",
        "M_sections = max(sections)+1\n",
        "\n",
        "Zu = model.addVars(max_min_groups, n_levels, vtype = GRB.BINARY, name=\"Zu\")\n",
        "Zl = model.addVars(max_min_groups, n_levels, vtype = GRB.BINARY, name=\"Zl\")"
      ]
    },
    {
      "cell_type": "code",
      "execution_count": 21,
      "metadata": {
        "id": "4etiYYBS-IwZ"
      },
      "outputs": [],
      "source": [
        "for c in range(n_cols):\n",
        "  for l in range(n_levels):\n",
        "    #sum of Xgcl over all groups must = if col at that level exists\n",
        "    model.addConstr(gp.quicksum(x[g,c,l] for g in range(max_min_groups)) == E[c,l])\n",
        "    model.addConstr(element_section[c,l] >= S[c,l])\n",
        "\n",
        "for g in range(max_min_groups):\n",
        "  #range of group g = upper bound - lower bound\n",
        "  model.addConstr(group_level_range[g] == group_upper_bound[g] - group_lower_bound[g])\n",
        "\n",
        "  for c in range(n_cols):\n",
        "    for l in range(n_levels):\n",
        "\n",
        "      #if element is in a group, it's section is at least the group's\n",
        "      #if not in the group, it's greater than (at most) 0\n",
        "      model.addConstr(element_section[c,l] >= group_section[g] - M_sections*(1-x[g,c,l]))\n",
        "      model.addConstr(element_section[c,l] <= group_section[g] + M_sections*(1-x[g,c,l]))\n",
        "\n",
        "      #if element is in group, that column is in the group\n",
        "      model.addConstr(column_in_group[g,c] >= x[g,c,l])\n",
        "\n",
        "      #if element is in group, that level is in the group\n",
        "      model.addConstr(level_in_group[g,l] >= x[g,c,l])\n",
        "\n",
        "      #if element is in that group, that group exists\n",
        "      model.addConstr(group_exists[g] >= x[g,c,l])\n",
        "\n",
        "for g in range(max_min_groups):\n",
        "  for l in range(n_levels):\n",
        "\n",
        "    #calculate upper, lower level\n",
        "    #NOTE: need to min(Ug) and max(Lg) for this to work\n",
        "    #NOTE: in julia, everything is 1 based, might need to adjust formulation to make everything work as 0-based\n",
        "    model.addConstr(l*level_in_group[g,l] <= group_upper_bound[g])\n",
        "    model.addConstr(l*level_in_group[g,l] + M*(1-level_in_group[g,l]) >= group_lower_bound[g])\n",
        "\n",
        "    #set Zl\n",
        "    model.addConstr(M*Zl[g,l] >= l-group_lower_bound[g]+1)\n",
        "    model.addConstr(M*(1-Zl[g,l]) >= group_lower_bound[g]-l)\n",
        "\n",
        "    #set Zu\n",
        "    model.addConstr(M*Zu[g,l] >= group_upper_bound[g]-l+1)\n",
        "    model.addConstr(M*(1-Zu[g,l]) >= l-group_upper_bound[g])\n",
        "\n",
        "    #if a level is within lower/upper bound, it's in the group\n",
        "    # to add the following as lazy constraint (not now)\n",
        "    model.addConstr(1+level_in_group[g,l] >= Zu[g,l]+Zl[g,l])\n",
        "\n",
        "    # for c in range(n_cols):\n",
        "    # #   #if column and level are in the group, so is the element\n",
        "    # #   #todo: lazily constraint??\n",
        "    #   model.addConstr(column_in_group[g,c]+level_in_group[g,l] <= 1 + x[g,c,l])\n",
        "\n",
        "for i, j in S.keys():\n",
        "    model.addConstr(gp.quicksum(y[i, j, k] for k in range(len(marginal_section_cost))) == 1)\n",
        "\n",
        "    for k in range(len(marginal_section_cost)):\n",
        "        model.addConstr((y[i, j, k] == 1) >> (element_section[i, j] == k))  # Enforce correct index\n",
        "        model.addConstr((y[i, j, k] == 1) >> (cost_section[i, j] == marginal_section_cost[k]))"
      ]
    },
    {
      "cell_type": "code",
      "execution_count": 22,
      "metadata": {
        "id": "pE728pPeHWtb"
      },
      "outputs": [],
      "source": [
        "def lazy_callback(model, where):\n",
        "    if where == GRB.Callback.MIPSOL:  # Check if a new solution is found\n",
        "        # Retrieve the values of decision variables at the current solution\n",
        "        column_vals = model.cbGetSolution(column_in_group)\n",
        "        level_vals = model.cbGetSolution(level_in_group)\n",
        "        x_vals = model.cbGetSolution(x)\n",
        "\n",
        "        # Iterate through indices and add violated constraints\n",
        "        for g in range(max_min_groups):\n",
        "            for l in range(n_levels):\n",
        "                for c in range(n_cols):\n",
        "                    lhs = column_vals[g, c] + level_vals[g, l]  # Left-hand side\n",
        "                    rhs = 1 + x_vals[g, c, l]  # Right-hand side\n",
        "                    if lhs > rhs + 1e-6:  # Constraint is violated\n",
        "                        model.cbLazy(column_in_group[g, c] + level_in_group[g, l] <= 1 + x[g, c, l])"
      ]
    },
    {
      "cell_type": "code",
      "execution_count": 23,
      "metadata": {
        "colab": {
          "base_uri": "https://localhost:8080/"
        },
        "id": "e2XAij8y-YCo",
        "outputId": "da981f24-73e0-4bcb-ca08-99b5916e16ac"
      },
      "outputs": [
        {
          "name": "stderr",
          "output_type": "stream",
          "text": [
            "C:\\Users\\Daniel\\AppData\\Local\\Temp\\ipykernel_25324\\2140531940.py:1: DeprecationWarning: Calling quicksum on a tupledict is deprecated, use .sum() instead.\n",
            "  model.setObjective(gp.quicksum(cost_section[i, j] for i, j in S.keys()) + 100*gp.quicksum(group_exists),GRB.MINIMIZE)\n"
          ]
        }
      ],
      "source": [
        "model.setObjective(gp.quicksum(cost_section[i, j] for i, j in S.keys()) + 100*gp.quicksum(group_exists),GRB.MINIMIZE)"
      ]
    },
    {
      "cell_type": "code",
      "execution_count": 24,
      "metadata": {
        "colab": {
          "base_uri": "https://localhost:8080/"
        },
        "id": "BnKR__nb-fWL",
        "outputId": "748c6669-8edd-433f-b44a-b5b6c7899b1b"
      },
      "outputs": [
        {
          "name": "stdout",
          "output_type": "stream",
          "text": [
            "Set parameter LazyConstraints to value 1\n",
            "Gurobi Optimizer version 12.0.1 build v12.0.1rc0 (win64 - Windows 10.0 (19045.2))\n",
            "\n",
            "CPU model: AMD Ryzen 5 5600G with Radeon Graphics, instruction set [SSE2|AVX|AVX2]\n",
            "Thread count: 6 physical cores, 12 logical processors, using up to 12 threads\n",
            "\n",
            "Non-default parameters:\n",
            "LazyConstraints  1\n",
            "\n",
            "Optimize a model with 374 rows, 178 columns and 868 nonzeros\n",
            "Model fingerprint: 0x67f0dfca\n",
            "Model has 60 simple general constraints\n",
            "  60 INDICATOR\n",
            "Variable types: 10 continuous, 168 integer (142 binary)\n",
            "Coefficient statistics:\n",
            "  Matrix range     [1e+00, 7e+00]\n",
            "  Objective range  [1e+00, 1e+02]\n",
            "  Bounds range     [1e+00, 5e+00]\n",
            "  RHS range        [1e+00, 1e+01]\n",
            "  GenCon rhs range [1e+00, 7e+01]\n",
            "  GenCon coe range [1e+00, 1e+00]\n",
            "Presolve removed 96 rows and 44 columns\n",
            "Presolve time: 0.01s\n",
            "Presolved: 278 rows, 134 columns, 731 nonzeros\n",
            "Presolved model has 9 SOS constraint(s)\n",
            "Variable types: 9 continuous, 125 integer (106 binary)\n",
            "Found heuristic solution: objective 700.0000000\n",
            "\n",
            "Root relaxation: objective 3.400000e+02, 106 iterations, 0.00 seconds (0.00 work units)\n",
            "\n",
            "    Nodes    |    Current Node    |     Objective Bounds      |     Work\n",
            " Expl Unexpl |  Obj  Depth IntInf | Incumbent    BestBd   Gap | It/Node Time\n",
            "\n",
            "     0     0  340.00000    0   23  700.00000  340.00000  51.4%     -    0s\n",
            "H    0     0                     490.0000000  340.00000  30.6%     -    0s\n",
            "     0     0  340.00000    0   29  490.00000  340.00000  30.6%     -    0s\n",
            "     0     0  402.50000    0   62  490.00000  402.50000  17.9%     -    0s\n",
            "     0     0  424.36235    0   66  490.00000  424.36235  13.4%     -    0s\n",
            "     0     0  431.92708    0   71  490.00000  431.92708  11.9%     -    0s\n",
            "     0     0  431.92708    0   68  490.00000  431.92708  11.9%     -    0s\n",
            "     0     0  431.92708    0   69  490.00000  431.92708  11.9%     -    0s\n",
            "     0     0  431.92708    0   69  490.00000  431.92708  11.9%     -    0s\n",
            "     0     0  431.92708    0   69  490.00000  431.92708  11.9%     -    0s\n",
            "     0     0  431.92708    0   69  490.00000  431.92708  11.9%     -    0s\n",
            "     0     2  431.92708    0   65  490.00000  431.92708  11.9%     -    0s\n",
            "\n",
            "Cutting planes:\n",
            "  Learned: 35\n",
            "  Gomory: 1\n",
            "  Cover: 8\n",
            "  Implied bound: 2\n",
            "  Clique: 3\n",
            "  MIR: 8\n",
            "  Zero half: 3\n",
            "  RLT: 3\n",
            "  Relax-and-lift: 4\n",
            "  Lazy constraints: 11\n",
            "\n",
            "Explored 28 nodes (838 simplex iterations) in 0.07 seconds (0.03 work units)\n",
            "Thread count was 12 (of 12 available processors)\n",
            "\n",
            "Solution count 2: 490 700 \n",
            "\n",
            "Optimal solution found (tolerance 1.00e-04)\n",
            "Best objective 4.900000000000e+02, best bound 4.900000000000e+02, gap 0.0000%\n",
            "\n",
            "User-callback calls 611, time in user-callback 0.01 sec\n",
            "x[2,1,0], 1\n",
            "x[3,0,1], 1\n",
            "x[2,1,1], 1\n",
            "x[3,0,2], 1\n",
            "x[2,1,2], 1\n",
            "x[3,0,3], 1\n",
            "x[2,1,3], 1\n",
            "group[2], 1\n",
            "group[3], 1\n",
            "col_in_group[2,1], 1\n",
            "col_in_group[3,0], 1\n",
            "level_in_group[0,0], 1\n",
            "level_in_group[0,1], 1\n",
            "level_in_group[0,2], 1\n",
            "level_in_group[0,3], 1\n",
            "level_in_group[1,1], 1\n",
            "level_in_group[2,0], 1\n",
            "level_in_group[2,1], 1\n",
            "level_in_group[2,2], 1\n",
            "level_in_group[2,3], 1\n",
            "level_in_group[3,1], 1\n",
            "level_in_group[3,2], 1\n",
            "level_in_group[3,3], 1\n",
            "group_lb[1], 1\n",
            "group_lb[3], 1\n",
            "group_ub[0], 3\n",
            "group_ub[1], 1\n",
            "group_ub[2], 3\n",
            "group_ub[3], 3\n",
            "group_range[0], 3\n",
            "group_range[2], 3\n",
            "group_range[3], 2\n",
            "group_section[0], 1\n",
            "group_section[1], 1\n",
            "group_section[2], 1\n",
            "group_section[3], 2\n",
            "element_section[1,0], 1\n",
            "element_section[0,1], 2\n",
            "element_section[1,1], 1\n",
            "element_section[0,2], 2\n",
            "element_section[1,2], 1\n",
            "element_section[0,3], 2\n",
            "element_section[1,3], 1\n",
            "y[0,0,0], 1\n",
            "y[1,0,1], 1\n",
            "y[0,1,2], 1\n",
            "y[1,1,1], 1\n",
            "y[0,2,2], 1\n",
            "y[1,2,1], 1\n",
            "y[0,3,2], 1\n",
            "y[1,3,1], 1\n",
            "y[0,4,0], 1\n",
            "y[1,4,0], 1\n",
            "cost_section[1,0], 20\n",
            "cost_section[0,1], 70\n",
            "cost_section[1,1], 20\n",
            "cost_section[0,2], 70\n",
            "cost_section[1,2], 20\n",
            "cost_section[0,3], 70\n",
            "cost_section[1,3], 20\n",
            "Zu[0,0], 1\n",
            "Zu[0,1], 1\n",
            "Zu[0,2], 1\n",
            "Zu[0,3], 1\n",
            "Zu[1,0], 1\n",
            "Zu[1,1], 1\n",
            "Zu[2,0], 1\n",
            "Zu[2,1], 1\n",
            "Zu[2,2], 1\n",
            "Zu[2,3], 1\n",
            "Zu[3,0], 1\n",
            "Zu[3,1], 1\n",
            "Zu[3,2], 1\n",
            "Zu[3,3], 1\n",
            "Zl[0,0], 1\n",
            "Zl[0,1], 1\n",
            "Zl[0,2], 1\n",
            "Zl[0,3], 1\n",
            "Zl[0,4], 1\n",
            "Zl[1,1], 1\n",
            "Zl[1,2], 1\n",
            "Zl[1,3], 1\n",
            "Zl[1,4], 1\n",
            "Zl[2,0], 1\n",
            "Zl[2,1], 1\n",
            "Zl[2,2], 1\n",
            "Zl[2,3], 1\n",
            "Zl[2,4], 1\n",
            "Zl[3,1], 1\n",
            "Zl[3,2], 1\n",
            "Zl[3,3], 1\n",
            "Zl[3,4], 1\n",
            "Obj: 490\n",
            "Time: 0.073\n"
          ]
        }
      ],
      "source": [
        "# model.write(\"group-optim-toy.lp\")\n",
        "\n",
        "# Optimize model\n",
        "model.Params.LazyConstraints = 1\n",
        "\n",
        "model.optimize(lazy_callback)\n",
        "\n",
        "#model.optimize()\n",
        "\n",
        "if model.status == GRB.OPTIMAL or model.status == GRB.SUBOPTIMAL:\n",
        "  for v in model.getVars():\n",
        "      if v.X > 0.5:\n",
        "          print(f\"{v.VarName}, {v.x:g}\") #{v.X:g}\")\n",
        "\n",
        "  print(f\"Obj: {model.ObjVal:g}\")\n",
        "  print(f\"Time: {model.Runtime:g}\")\n",
        "else:\n",
        "  print(f\"Optimization failed with status: {model.status}\")"
      ]
    },
    {
      "cell_type": "code",
      "execution_count": 25,
      "metadata": {
        "colab": {
          "base_uri": "https://localhost:8080/"
        },
        "id": "Xv6rEqetVtde",
        "outputId": "70244ea2-9ce6-40ea-f2c5-f50a62ef8c0e"
      },
      "outputs": [
        {
          "name": "stdout",
          "output_type": "stream",
          "text": [
            "[[-1  3  3  3 -1]\n",
            " [ 2  2  2  2 -1]]\n"
          ]
        }
      ],
      "source": [
        "import numpy as np\n",
        "\n",
        "grouped_elements = np.full((n_cols, n_levels), -1)  # -1 as default (if element doesn't exist)\n",
        "\n",
        "for g, i, j in x.keys():\n",
        "    if x[g, i, j].X > 0.5:  # Check if x[g, i, j] is active\n",
        "        grouped_elements[i, j] = g\n",
        "\n",
        "print(grouped_elements)"
      ]
    },
    {
      "cell_type": "code",
      "execution_count": 26,
      "metadata": {
        "colab": {
          "base_uri": "https://localhost:8080/"
        },
        "id": "1Eownyvo5YJo",
        "outputId": "d9999c8d-327d-4b9b-809b-aa10403f38ed"
      },
      "outputs": [
        {
          "name": "stdout",
          "output_type": "stream",
          "text": [
            "[[0 2 2 2 0]\n",
            " [1 1 1 1 0]]\n"
          ]
        }
      ],
      "source": [
        "section_of_elements = np.full((n_cols, n_levels), 0)\n",
        "\n",
        "for i, j in element_section.keys():\n",
        "    section_of_elements[i, j] = element_section[i, j].X\n",
        "\n",
        "print(section_of_elements)"
      ]
    },
    {
      "cell_type": "code",
      "execution_count": 27,
      "metadata": {
        "id": "9Zp6HkusWReD"
      },
      "outputs": [],
      "source": [
        "# two heatmaps: one: color for representing groups and number representing the group section and vice versa\n",
        "import seaborn as sns\n",
        "import matplotlib.pyplot as plt\n",
        "import matplotlib.colors as mcolors\n",
        "\n",
        "def plot_heatmap(grouped_elements, section_of_elements, plot_sections = False):\n",
        "  unique_vals = np.unique(grouped_elements)\n",
        "\n",
        "  if plot_sections:\n",
        "    unique_vals = unique_vals[unique_vals > 0]\n",
        "    section_of_elements = np.where(section_of_elements == -1, 0, section_of_elements)\n",
        "  else:\n",
        "    unique_vals = unique_vals[unique_vals != -1]\n",
        "\n",
        "  print(section_of_elements)\n",
        "\n",
        "  rotated_grouped_elements = np.rot90(grouped_elements, k=1)\n",
        "\n",
        "  rotated_section_of_elements = np.rot90(section_of_elements, k=1)\n",
        "\n",
        "  num_classes = len(unique_vals)  # Number of unique values (excluding -1)\n",
        "  colors = sns.color_palette(\"tab10\", num_classes)  # Get distinct colors\n",
        "  colors = [(1, 1, 1)] + colors  # white color for -1\n",
        "  #colors[0] = [(1, 1, 1)]  # white color for -1\n",
        "  print(colors)\n",
        "  cmap = mcolors.ListedColormap(colors)\n",
        "  print(cmap)\n",
        "\n",
        "  bounds = np.arange(-1, num_classes + 1) - 0.5\n",
        "  norm = mcolors.BoundaryNorm(bounds, cmap.N)\n",
        "\n",
        "  print(rotated_grouped_elements)\n",
        "\n",
        "  plt.figure(figsize=(6, 5))\n",
        "  sns.heatmap(rotated_grouped_elements, cmap=cmap, norm=norm, linewidths=0.5,\n",
        "              linecolor='black', annot=rotated_section_of_elements, cbar=False)\n",
        "\n",
        "  plt.title(\"Grouping of elements\")\n",
        "  plt.xlabel(\"Column\")\n",
        "  plt.ylabel(\"Level\")\n",
        "  plt.yticks(ticks=np.arange(n_levels), labels=range(n_levels - 1, -1, -1), rotation=0)\n",
        "\n",
        "  plt.show()"
      ]
    },
    {
      "cell_type": "code",
      "execution_count": 28,
      "metadata": {
        "colab": {
          "base_uri": "https://localhost:8080/",
          "height": 472
        },
        "id": "QKarkPCCF1Rh",
        "outputId": "e954eaed-7f1d-45f3-99e1-7231a984efba"
      },
      "outputs": [
        {
          "data": {
            "image/png": "[encoded data removed]",
            "text/plain": [
              "<Figure size 640x480 with 2 Axes>"
            ]
          },
          "metadata": {},
          "output_type": "display_data"
        }
      ],
      "source": [
        "test_data_rotated = np.rot90(np.array(test_data), k=1)\n",
        "\n",
        "unique_values = np.unique(test_data_rotated)\n",
        "unique_values = unique_values[unique_values > 0]\n",
        "\n",
        "palette = sns.color_palette(\"viridis\", len(unique_values))\n",
        "\n",
        "cmap = mcolors.ListedColormap([(1, 1, 1)] + palette)\n",
        "\n",
        "value_to_color_idx = {val: i+1 for i, val in enumerate(unique_values)}\n",
        "value_to_color_idx[0] = 0\n",
        "\n",
        "color_indices = np.vectorize(value_to_color_idx.get)(test_data_rotated)\n",
        "\n",
        "sns.heatmap(test_data_rotated, annot=True, cmap=cmap,\n",
        "            linewidths=0.5, linecolor=\"black\", cbar=True)\n",
        "\n",
        "plt.title(\"Section size of each Element\")\n",
        "plt.xlabel(\"Column\")\n",
        "plt.ylabel(\"Level\")\n",
        "plt.yticks(ticks=np.arange(n_levels), labels=range(n_levels - 1, -1, -1), rotation=0)\n",
        "\n",
        "plt.show()"
      ]
    },
    {
      "cell_type": "code",
      "execution_count": 29,
      "metadata": {
        "colab": {
          "base_uri": "https://localhost:8080/",
          "height": 472
        },
        "id": "q5xtXZf__uXd",
        "outputId": "a94d056a-734e-48e1-ba74-7f8768111292"
      },
      "outputs": [
        {
          "data": {
            "image/png": "[encoded data removed]",
            "text/plain": [
              "<Figure size 640x480 with 1 Axes>"
            ]
          },
          "metadata": {},
          "output_type": "display_data"
        }
      ],
      "source": [
        "test_heatmap(grouped_elements, section_of_elements, False)"
      ]
    },
    {
      "cell_type": "code",
      "execution_count": 30,
      "metadata": {
        "colab": {
          "base_uri": "https://localhost:8080/",
          "height": 472
        },
        "id": "3TKKT99XBLfX",
        "outputId": "66248fa1-51b5-40cf-c8bb-d9ffbdac1102"
      },
      "outputs": [
        {
          "data": {
            "image/png": "[encoded data removed]",
            "text/plain": [
              "<Figure size 640x480 with 2 Axes>"
            ]
          },
          "metadata": {},
          "output_type": "display_data"
        }
      ],
      "source": [
        "test_heatmap(section_of_elements, grouped_elements)"
      ]
    }
  ],
  "metadata": {
    "colab": {
      "provenance": []
    },
    "kernelspec": {
      "display_name": "Python 3",
      "name": "python3"
    },
    "language_info": {
      "codemirror_mode": {
        "name": "ipython",
        "version": 3
      },
      "file_extension": ".py",
      "mimetype": "text/x-python",
      "name": "python",
      "nbconvert_exporter": "python",
      "pygments_lexer": "ipython3",
      "version": "3.11.4"
    }
  },
  "nbformat": 4,
  "nbformat_minor": 0
}
