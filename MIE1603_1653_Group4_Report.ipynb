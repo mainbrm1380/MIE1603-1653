{
  "cells": [
    {
      "cell_type": "markdown",
      "source": [
        "# __Initial Model__"
      ],
      "metadata": {
        "id": "UGmOUhxrGvLk"
      }
    },
    {
      "cell_type": "markdown",
      "source": [
        "### **Sets**"
      ],
      "metadata": {
        "id": "uV-9VFmhaIUh"
      }
    },
    {
      "cell_type": "markdown",
      "source": [
        "For our initial model we define the following sets:\n",
        "\n",
        "  * Levels: $$L={1,...,n_{L}}$$\n",
        "  * Columns: $$C={1,...,n_{C}}$$\n",
        "  * Sections: $$S={1,...,n_{S}}$$\n",
        "  * Groups: $$C={1,...,n_{G}}$$\n",
        "\n",
        "We define the following heuristic to obtain an upperbound for the number of group:\n",
        "$$n_{G}=min(100,\\sum\\limits_{c ϵ C}|S_{c}|, \\sum\\limits_{l ϵ L}|S_{l}|)$$\n",
        "\n"
      ],
      "metadata": {
        "id": "ATjTfCAMG64Q"
      }
    },
    {
      "cell_type": "markdown",
      "source": [
        "### **Constants**"
      ],
      "metadata": {
        "id": "OChRwEUoagT8"
      }
    },
    {
      "cell_type": "markdown",
      "source": [
        "Based on our input data we define the following constants:\n",
        "\n",
        "  * Minmimum Viable Section:\n",
        "  $$mvs_{cl}=\n",
        "  \\left\\{\n",
        "  \\begin{array}{l}\n",
        "  s\\hspace{1cm}\\text{if element exists} \\\\\n",
        "  0\\hspace{1cm}\\text{otherwise}\n",
        "  \\end{array}\n",
        "  \\right.\\hspace{1cm}∀\\ c\\ ϵ\\ C,\\ l\\ ϵ\\ L,\\ g\\ ϵ\\ G\n",
        "  $$\n",
        "\n",
        "  * Whether an element exists:\n",
        "  $$e_{cl}=\n",
        "  \\left\\{\n",
        "  \\begin{array}{l}\n",
        "  1\\hspace{1cm}\\text{if element exists} \\\\\n",
        "  0\\hspace{1cm}\\text{otherwise}\n",
        "  \\end{array}\n",
        "  \\right.\\hspace{1cm}∀\\ c\\ ϵ\\ C,\\ l\\ ϵ\\ L,\\ g\\ ϵ\\ G\n",
        "  $$\n",
        "\n",
        "  * Cost of Section:\n",
        "  $$cs_{s}\\ ∀\\ s\\ ϵ\\ S$$\n",
        "\n",
        "  * Costper Group:$$cg$$\n",
        "\n",
        "  * Big M: $$M_{L}=n_{L}+1,\\ M_{S}=n_{S}+1$$\n"
      ],
      "metadata": {
        "id": "gnRfwNlMaeJb"
      }
    },
    {
      "cell_type": "markdown",
      "source": [
        "### **Decision Variables**"
      ],
      "metadata": {
        "id": "gCfL_qkGaSuI"
      }
    },
    {
      "cell_type": "markdown",
      "metadata": {
        "id": "Zf0n213mGZvy"
      },
      "source": [
        "The following are the decision variables:\n",
        "  * Variables relating to grouping:\n",
        "  $$x_{clg}=\n",
        "  \\left\\{\n",
        "  \\begin{array}{l}\n",
        "  1\\hspace{1cm}\\text{if element at column}\\ c\\ \\text{, level}\\ l\\ \\text{is in group g} \\\\\n",
        "  0\\hspace{1cm}\\text{otherwise}\n",
        "  \\end{array}\n",
        "  \\right.\\hspace{1cm}∀\\ c\\ ϵ\\ C,\\ l\\ ϵ\\ L,\\ g\\ ϵ\\ G\n",
        "  $$\n",
        "\n",
        "  $$ge_{g}=\n",
        "  \\left\\{\n",
        "  \\begin{array}{l}\n",
        "  1\\hspace{1cm}\\text{if group}\\ g\\ \\text{exists} \\\\\n",
        "  0\\hspace{1cm}\\text{otherwise}\n",
        "  \\end{array}\n",
        "  \\right.\\hspace{1cm}∀\\ g\\ ϵ\\ G\n",
        "  $$\n",
        "\n",
        "  $$cig_{cg}=\n",
        "  \\left\\{\n",
        "  \\begin{array}{l}\n",
        "  1\\hspace{1cm}\\text{if column}\\ c\\ \\text{is in group}\\ g \\\\\n",
        "  0\\hspace{1cm}\\text{otherwise}\n",
        "  \\end{array}\n",
        "  \\right.\\hspace{1cm}∀\\ c\\ ϵ\\ C,\\ g\\ ϵ\\ G\n",
        "  $$\n",
        "\n",
        "  $$lig_{lg}=\n",
        "  \\left\\{\n",
        "  \\begin{array}{l}\n",
        "  1\\hspace{1cm}\\text{if level}\\ l\\ \\text{is in group}\\  g \\\\\n",
        "  0\\hspace{1cm}\\text{otherwise}\n",
        "  \\end{array}\n",
        "  \\right.\\hspace{1cm}∀\\ l\\ ϵ\\ L,\\ g\\ ϵ\\ G\n",
        "  $$\n",
        "\n",
        "  * Variables relating to levels:\n",
        "  $$glb_{g}= \\text{The smallest level in group}\\ g\\hspace{1cm} 0\\leq glb_{g}\\leq n_{l} \\hspace{1cm}∀\\ g\\ ϵ\\ G,\\ glb_g\\ ϵ\\ Z$$\n",
        "\n",
        "  $$gub_{g}= \\text{The highest level in group}\\ g\\hspace{1cm} 0\\leq glb_{g}\\leq n_{l} \\hspace{1cm}∀\\ g\\ ϵ\\ G,\\ glb_g\\ ϵ\\ Z$$\n",
        "\n",
        "  $$zu_{lg}=\n",
        "  \\left\\{\n",
        "  \\begin{array}{l}\n",
        "  1\\hspace{1cm}\\text{if}\\ gub_{g}\\geq\\ l  \\\\\n",
        "  0\\hspace{1cm}\\text{otherwise}\n",
        "  \\end{array}\n",
        "  \\right.\\hspace{1cm}∀\\ c\\ ϵ\\ C,\\ g\\ ϵ\\ G\n",
        "  $$\n",
        "  \n",
        "  \n",
        "  $$zl_{lg}=\n",
        "  \\left\\{\n",
        "  \\begin{array}{l}\n",
        "  1\\hspace{1cm}\\text{if}\\ gub_{g}\\leq\\ l  \\\\\n",
        "  0\\hspace{1cm}\\text{otherwise}\n",
        "  \\end{array}\n",
        "  \\right.\\hspace{1cm}∀\\ c\\ ϵ\\ C,\\ g\\ ϵ\\ G\n",
        "  $$\n",
        "\n",
        "  * Variables relating to sections:\n",
        "\n",
        "  $$gs_{g}= \\text{Section of group}\\ g\\hspace{1cm} 0\\leq gs_{g}\\leq n_{g} \\hspace{1cm}∀\\ g\\ ϵ\\ G,\\ gs_g\\ ϵ\\ Z$$\n",
        "  \n",
        "  $$es_{cl}= \\text{Section of element at column}\\ c\\ \\text{at level}\\ l\\hspace{1cm} 0\\leq es_{cl}\\leq n_{s} \\hspace{1cm}∀\\ c\\ ϵ\\ C,\\ es_{cl}\\ ϵ\\ Z$$\n",
        "  \n",
        "  $$ec_{cl}= \\text{Cost of element at column}\\ c\\ \\text{at level}\\ l\\hspace{1cm} 0\\leq es_{cl}\\leq \\max cs_{s} \\hspace{1cm}∀\\ c\\ ϵ\\ C,\\ es_{cl}\\ ϵ\\ R$$\n",
        "\n",
        "  $$esb_{cls}=\n",
        "  \\left\\{\n",
        "  \\begin{array}{l}\n",
        "  1\\hspace{1cm}\\text{if}\\ es_{cl}= s  \\\\\n",
        "  0\\hspace{1cm}\\text{otherwise}\n",
        "  \\end{array}\n",
        "  \\right.\\hspace{1cm}∀\\ c\\ ϵ\\ C,\\ l\\ ϵ\\ L,\\ s\\ ϵ\\ S\n",
        "  $$"
      ]
    },
    {
      "cell_type": "markdown",
      "source": [
        "### **Objective Function**"
      ],
      "metadata": {
        "id": "ybhJJdmDaq4h"
      }
    },
    {
      "cell_type": "markdown",
      "source": [
        "$$min∑\\limits_{c\\ ϵ\\ C,\\ l\\ ϵ\\ L, g\\ ϵ\\ G}ec_{cl}+cg\\times ge_{g}-gub_{g}+glb_g$$\n",
        "\n",
        "The above ensures that we:\n",
        "  1. Minimzie section cost\n",
        "  2. Minimize number of groups\n",
        "  3. Minimze upperbound and maximize the lowerbound"
      ],
      "metadata": {
        "id": "M_7n1Ce3avnm"
      }
    },
    {
      "cell_type": "markdown",
      "source": [
        "### **Constraints**"
      ],
      "metadata": {
        "id": "WTiUTEX_awXT"
      }
    },
    {
      "cell_type": "markdown",
      "source": [
        "The following constraints are regarding grouping:\n",
        "  * To ensure that each element that exists is in exactly one group:\n",
        "  $$\\sum\\limits_{g\\ ϵ\\ G}x_{clg}=e_{cl}\\hspace{1cm}∀\\ c\\ ϵ\\ C, \\ l\\ ϵ\\ L$$\n",
        "  * Columns in group tied to element in group:\n",
        "  $$cig_{cg}\\geq x_{clg}\\hspace{1cm}∀\\ c\\ \\epsilon\\ C,\\ l\\ \\epsilon \\ L,\\ g\\ \\epsilon\\ G$$\n",
        "  * Level in group tied to element in group:\n",
        "  $$lig_{lg}\\geq x_{clg}\\hspace{1cm}∀\\ c\\ \\epsilon\\ C,\\ l\\ \\epsilon \\ L,\\ g\\ \\epsilon\\ G$$\n",
        "  * Group exists tied to element in group:\n",
        "  $$ge_{g}\\geq x_{clg}\\hspace{1cm}∀\\ c\\ \\epsilon\\ C,\\ l\\ \\epsilon \\ L,\\ g\\ \\epsilon\\ G$$"
      ],
      "metadata": {
        "id": "bnFTLEgNawsJ"
      }
    },
    {
      "cell_type": "markdown",
      "source": [
        "The following constraints are regarding sections:\n",
        "  * One section per element:\n",
        "  $$\\sum\\limits_{s\\ ϵ\\ S}ecb_{cls}=1\\hspace{1cm}∀\\ c\\ ϵ\\ C,\\ l\\ ϵ\\ L$$\n",
        "\n",
        "  * Element section implies element cost:\n",
        "  $$ecb_{cls}=1⇒es_{cl}=s\\hspace{1cm}∀\\ c\\ ϵ\\ C,\\ l\\ ϵ\\ L,\\ s\\ ϵ\\ S$$\n",
        "  $$ecb_{cls}=1⇒ec_{cl}=s\\hspace{1cm}∀\\ c\\ ϵ\\ C,\\ l\\ ϵ\\ L,\\ s\\ ϵ\\ S$$\n",
        "\n",
        "  * Element section larger than minimum viable section, smaller than section below:\n",
        "  $$es_{cl}\\geq mvs_{cl}\\hspace{1cm}∀\\ c\\ ϵ\\ C,\\ l\\ ϵ\\ L$$\n",
        "  $$es_{cl}\\leq es_{c,\\ l-1}\\hspace{1cm}∀\\ c\\ ϵ\\ C,\\ l\\ ϵ\\ L:\\ e_{cl}=1\\ \\cap\\ e_{c,l-1}=1$$\n",
        "\n",
        "  * Element section linked with group section:\n",
        "  $$es_{cl}\\geq gs_g-M_s(1-x_{clg})\\hspace{1cm}∀\\ c\\ \\epsilon\\ C,\\ l\\ \\epsilon \\ L,\\ g\\ \\epsilon\\ G$$\n",
        "  $$es_{cl}\\leq gs_g+M_s(1-x_{clg})\\hspace{1cm}∀\\ c\\ \\epsilon\\ C,\\ l\\ \\epsilon \\ L,\\ g\\ \\epsilon\\ G$$"
      ],
      "metadata": {
        "id": "IArm6VS7cB-g"
      }
    },
    {
      "cell_type": "markdown",
      "source": [
        "The following constraints are regarding levels:\n",
        "  * Define group level UB and group level LB:\n",
        "  $$l× lig_{lg}\\leq gub_g\\hspace{1cm}\\forall\\ l\\ ϵ\\ L,\\ g\\ ϵ\\ G$$\n",
        "  $$l× lig_{lg}+M_L(1-lig_{lg})\\geq glb_g\\hspace{1cm}\\forall\\ l\\ ϵ\\ L,\\ g\\ ϵ\\ G$$\n",
        "\n",
        "  * Define _ZU_ and _ZL_ (whether level is above lowerbound\\below upperbound):\n",
        "  $$M_L×zl_{lg}\\geq l-glb_g+1\\hspace{1cm}\\forall\\ l\\ ϵ\\ L,\\ g\\ ϵ\\ G$$\n",
        "  $$M_L×(1-zl_{lg})\\geq glb_g-l\\hspace{1cm}\\forall\\ l\\ ϵ\\ L,\\ g\\ ϵ\\ G$$\n",
        "  $$M_L×zu_{lg}\\geq glb_g-l+1\\hspace{1cm}\\forall\\ l\\ ϵ\\ L,\\ g\\ ϵ\\ G$$\n",
        "  $$M_L×(1-zu_{lg})\\geq l-glb_g\\hspace{1cm}\\forall\\ l\\ ϵ\\ L,\\ g\\ ϵ\\ G$$\n",
        "\n",
        "  * If level is below upperbound and above lowerbound, it is in the group:\n",
        "  $$1+lig_{lg}\\geq zu_{lg}+zl_{lg}\\hspace{1cm}\\forall\\ l\\ ϵ\\ L,\\ g\\ ϵ\\ G$$\n",
        "\n",
        "  * If the column and level are in group, element at that level and column must be in the same group:\n",
        "  $$cig_{cg}+lig_{lg}\\leq 1+x_{}clg\\hspace{1cm}\\forall\\ l\\ ϵ\\ L,\\ c\\ \\epsilon\\ C,\\ g\\ ϵ\\ G$$"
      ],
      "metadata": {
        "id": "Z2o-9tR_cCUW"
      }
    },
    {
      "cell_type": "markdown",
      "source": [
        "# **Initial Improvements**"
      ],
      "metadata": {
        "id": "slezIcLtvzlq"
      }
    },
    {
      "cell_type": "markdown",
      "source": [
        "## **1. Implicit Continuous Variables**\n",
        "\n",
        "When testing our model on small test data, we obsereved that gurobi tended to change a number of variables to be continuous, instead of integer or binary. As a result we changed the following variables to be contiuous instead of integer or binary:\n",
        "\n",
        "  * $$ 0\\leq glb_{g}\\leq n_{l} \\hspace{1cm}∀\\ g\\ ϵ\\ G, \\ glb_g\\ ϵ\\ R$$"
      ],
      "metadata": {
        "id": "TfkFXOdlv4G4"
      }
    },
    {
      "cell_type": "code",
      "source": [],
      "metadata": {
        "id": "KnkLGKAJkTPp"
      },
      "execution_count": null,
      "outputs": []
    }
  ],
  "metadata": {
    "kernelspec": {
      "display_name": "Python 3",
      "language": "python",
      "name": "python3"
    },
    "language_info": {
      "name": "python",
      "version": "3.11.4"
    },
    "colab": {
      "provenance": []
    }
  },
  "nbformat": 4,
  "nbformat_minor": 0
}