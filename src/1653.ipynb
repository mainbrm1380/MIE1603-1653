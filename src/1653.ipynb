{
  "nbformat": 4,
  "nbformat_minor": 0,
  "metadata": {
    "colab": {
      "provenance": []
    },
    "kernelspec": {
      "name": "python3",
      "display_name": "Python 3"
    },
    "language_info": {
      "name": "python"
    }
  },
  "cells": [
    {
      "cell_type": "code",
      "execution_count": 1,
      "metadata": {
        "colab": {
          "base_uri": "https://localhost:8080/"
        },
        "id": "jvv1us3R9Suo",
        "outputId": "4b216f25-878e-4b96-d83e-20ad74be2da5"
      },
      "outputs": [
        {
          "output_type": "stream",
          "name": "stdout",
          "text": [
            "Collecting gurobipy\n",
            "  Downloading gurobipy-12.0.1-cp311-cp311-manylinux2014_x86_64.manylinux_2_17_x86_64.whl.metadata (16 kB)\n",
            "Downloading gurobipy-12.0.1-cp311-cp311-manylinux2014_x86_64.manylinux_2_17_x86_64.whl (14.4 MB)\n",
            "\u001b[2K   \u001b[90m━━━━━━━━━━━━━━━━━━━━━━━━━━━━━━━━━━━━━━━━\u001b[0m \u001b[32m14.4/14.4 MB\u001b[0m \u001b[31m24.0 MB/s\u001b[0m eta \u001b[36m0:00:00\u001b[0m\n",
            "\u001b[?25hInstalling collected packages: gurobipy\n",
            "Successfully installed gurobipy-12.0.1\n"
          ]
        }
      ],
      "source": [
        "!pip install gurobipy"
      ]
    },
    {
      "cell_type": "code",
      "source": [
        "import gurobipy as gp\n",
        "from gurobipy import GRB"
      ],
      "metadata": {
        "id": "_KwSnoDB9ckh"
      },
      "execution_count": 2,
      "outputs": []
    },
    {
      "cell_type": "code",
      "source": [
        "\n",
        "test_data = [[0,2,1,1,0],[1,1,1,1,0]] #e_ij = 1 if col i exists at level j, bottom to top\n",
        "\n",
        "\n",
        "n_cols = len(test_data)\n",
        "n_levels = len(test_data[0])\n",
        "max_min_groups = 4 #min(n_cols,n_levels) #TODO: NEED NEW HEURISTIC FOR THIS\n",
        "M = n_levels + 2\n",
        "\n",
        "Xgcl = [(g,c,l) for l in range(n_levels) for c in range(n_cols) for g in range(max_min_groups)]\n",
        "\n",
        "S = {(i,j): test_data[i][j] for j in range(n_levels) for i in range(n_cols)}\n",
        "E = {(i,j): 1 if test_data[i][j] > 0 else 0 for j in range(n_levels) for i in range(n_cols)}\n",
        "sections = set(l for l in S.values())\n",
        "\n",
        "# Create a new model\n",
        "model = gp.Model(\"Grouping-Optimization\")\n",
        "\n",
        "# # Create variables\n",
        "\n",
        "x = model.addVars(Xgcl, vtype = GRB.BINARY, name=\"x\")\n",
        "\n",
        "#marginal_section_cost = 50\n",
        "marginal_section_cost = [0,20,70]\n",
        "\n",
        "group_exists = model.addVars(max_min_groups, vtype = GRB.BINARY, name=\"group\")\n",
        "column_in_group = model.addVars(max_min_groups, n_cols, vtype = GRB.BINARY, name=\"col_in_group\")\n",
        "level_in_group = model.addVars(max_min_groups, n_levels, vtype = GRB.BINARY, name=\"level_in_group\")\n",
        "\n",
        "# can these be continuous? or must be int?\n",
        "group_lower_bound = model.addVars(max_min_groups, vtype = GRB.INTEGER, name=\"group_lb\", lb = 0, ub = n_levels) # upper bound be n_levels-1?\n",
        "group_upper_bound = model.addVars(max_min_groups, vtype = GRB.INTEGER, name=\"group_ub\", lb = 0, ub = n_levels)\n",
        "group_level_range = model.addVars(max_min_groups, vtype = GRB.INTEGER, name=\"group_range\", lb = 0, ub = n_levels)\n",
        "\n",
        "#section size variables\n",
        "#done as binary? or as integer? try both: use worse/better for ablation\n",
        "group_section = model.addVars(max_min_groups, vtype = GRB.INTEGER, name=\"group_section\", lb = 0, ub = max(sections))\n",
        "element_section = model.addVars(S.keys(), vtype=GRB.INTEGER, name=\"element_section\", lb=0, ub = max(sections))\n",
        "# binary variables y[i,j,k] that are 1 if element_section[i,j] == k\n",
        "y = model.addVars(S.keys(), range(len(marginal_section_cost)), vtype=GRB.BINARY, name=\"y\")\n",
        "\n",
        "# cost variables for element_section\n",
        "cost_section = model.addVars(S.keys(), vtype=GRB.CONTINUOUS, name=\"cost_section\")\n",
        "\n",
        "# Ensure each element_section[i,j] has exactly one assigned level\n",
        "# Zs = model.addVars(Xgcl, vtype = GRB.BINARY, name = \"Zs\") #if group section = element section\n",
        "\n",
        "#each group is same section\n",
        "#group section has to be >= section of element\n",
        "#take min of cost_of_section * num of elements with that section\n",
        "#^either count # of sections in each group, and linearize cost_of_section var * # sections\n",
        "#that is for integer version, binary version has binary var for which section a grou phas, times its cost, times number of elements\n",
        "# or has bin var for section of each element, and multiple by cost of that section.\n",
        "# 4 variations??\n",
        "M_sections = max(sections)+1\n",
        "\n",
        "Zu = model.addVars(max_min_groups, n_levels, vtype = GRB.BINARY, name=\"Zu\")\n",
        "Zl = model.addVars(max_min_groups, n_levels, vtype = GRB.BINARY, name=\"Zl\")"
      ],
      "metadata": {
        "id": "RIBgF2Rx9vtQ",
        "colab": {
          "base_uri": "https://localhost:8080/"
        },
        "outputId": "f8256e45-8634-4bfd-9248-3d2fb444d21a"
      },
      "execution_count": 3,
      "outputs": [
        {
          "output_type": "stream",
          "name": "stdout",
          "text": [
            "Restricted license - for non-production use only - expires 2026-11-23\n"
          ]
        }
      ]
    },
    {
      "cell_type": "code",
      "source": [
        "for c in range(n_cols):\n",
        "  for l in range(n_levels):\n",
        "    #sum of Xgcl over all groups must = if col at that level exists\n",
        "    model.addConstr(gp.quicksum(x[g,c,l] for g in range(max_min_groups)) == E[c,l])\n",
        "    model.addConstr(element_section[c,l] >= S[c,l])\n",
        "\n",
        "for g in range(max_min_groups):\n",
        "  #range of group g = upper bound - lower bound\n",
        "  model.addConstr(group_level_range[g] == group_upper_bound[g] - group_lower_bound[g])\n",
        "\n",
        "  for c in range(n_cols):\n",
        "    for l in range(n_levels):\n",
        "\n",
        "      #if element is in a group, it's section is at least the group's\n",
        "      #if not in the group, it's greater than (at most) 0\n",
        "      model.addConstr(element_section[c,l] >= group_section[g] - M_sections*(1-x[g,c,l]))\n",
        "      model.addConstr(element_section[c,l] <= group_section[g] + M_sections*(1-x[g,c,l]))\n",
        "\n",
        "      #if element is in group, that column is in the group\n",
        "      model.addConstr(column_in_group[g,c] >= x[g,c,l])\n",
        "\n",
        "      #if element is in group, that level is in the group\n",
        "      model.addConstr(level_in_group[g,l] >= x[g,c,l])\n",
        "\n",
        "      #if element is in that group, that group exists\n",
        "      model.addConstr(group_exists[g] >= x[g,c,l])\n",
        "\n",
        "for g in range(max_min_groups):\n",
        "  for l in range(n_levels):\n",
        "\n",
        "    #calculate upper, lower level\n",
        "    #NOTE: need to min(Ug) and max(Lg) for this to work\n",
        "    #NOTE: in julia, everything is 1 based, might need to adjust formulation to make everything work as 0-based\n",
        "    model.addConstr(l*level_in_group[g,l] <= group_upper_bound[g])\n",
        "    model.addConstr(l*level_in_group[g,l] + M*(1-level_in_group[g,l]) >= group_lower_bound[g])\n",
        "\n",
        "    #set Zl\n",
        "    model.addConstr(M*Zl[g,l] >= l-group_lower_bound[g]+1)\n",
        "    model.addConstr(M*(1-Zl[g,l]) >= group_lower_bound[g]-l)\n",
        "\n",
        "    #set Zu\n",
        "    model.addConstr(M*Zu[g,l] >= group_upper_bound[g]-l+1)\n",
        "    model.addConstr(M*(1-Zu[g,l]) >= l-group_upper_bound[g])\n",
        "\n",
        "    #if a level is within lower/upper bound, it's in the group\n",
        "    # to add the following as lazy constraint (not now)\n",
        "    model.addConstr(1+level_in_group[g,l] >= Zu[g,l]+Zl[g,l])\n",
        "\n",
        "    # for c in range(n_cols):\n",
        "    # #   #if column and level are in the group, so is the element\n",
        "    # #   #todo: lazily constraint??\n",
        "    #   model.addConstr(column_in_group[g,c]+level_in_group[g,l] <= 1 + x[g,c,l])\n",
        "\n",
        "for i, j in S.keys():\n",
        "    model.addConstr(gp.quicksum(y[i, j, k] for k in range(len(marginal_section_cost))) == 1)\n",
        "\n",
        "    for k in range(len(marginal_section_cost)):\n",
        "        model.addConstr((y[i, j, k] == 1) >> (element_section[i, j] == k))  # Enforce correct index\n",
        "        model.addConstr((y[i, j, k] == 1) >> (cost_section[i, j] == marginal_section_cost[k]))"
      ],
      "metadata": {
        "id": "4etiYYBS-IwZ"
      },
      "execution_count": 4,
      "outputs": []
    },
    {
      "cell_type": "code",
      "source": [
        "def lazy_callback(model, where):\n",
        "    if where == GRB.Callback.MIPSOL:  # Check if a new solution is found\n",
        "        # Retrieve the values of decision variables at the current solution\n",
        "        column_vals = model.cbGetSolution(column_in_group)\n",
        "        level_vals = model.cbGetSolution(level_in_group)\n",
        "        x_vals = model.cbGetSolution(x)\n",
        "\n",
        "        # Iterate through indices and add violated constraints\n",
        "        for g in range(max_min_groups):\n",
        "            for l in range(n_levels):\n",
        "                for c in range(n_cols):\n",
        "                    lhs = column_vals[g, c] + level_vals[g, l]  # Left-hand side\n",
        "                    rhs = 1 + x_vals[g, c, l]  # Right-hand side\n",
        "                    if lhs > rhs + 1e-6:  # Constraint is violated\n",
        "                        model.cbLazy(column_in_group[g, c] + level_in_group[g, l] <= 1 + x[g, c, l])"
      ],
      "metadata": {
        "id": "pE728pPeHWtb"
      },
      "execution_count": 5,
      "outputs": []
    },
    {
      "cell_type": "code",
      "source": [
        "model.setObjective(gp.quicksum(cost_section[i, j] for i, j in S.keys()) + 100*gp.quicksum(group_exists),GRB.MINIMIZE)"
      ],
      "metadata": {
        "colab": {
          "base_uri": "https://localhost:8080/"
        },
        "id": "e2XAij8y-YCo",
        "outputId": "8c51abb9-8428-46ca-d512-c63b96bfe6e1"
      },
      "execution_count": 6,
      "outputs": [
        {
          "output_type": "stream",
          "name": "stderr",
          "text": [
            "<ipython-input-6-5a5697e5e598>:1: DeprecationWarning: Calling quicksum on a tupledict is deprecated, use .sum() instead.\n",
            "  model.setObjective(gp.quicksum(cost_section[i, j] for i, j in S.keys()) + 100*gp.quicksum(group_exists),GRB.MINIMIZE)\n"
          ]
        }
      ]
    },
    {
      "cell_type": "code",
      "source": [
        "# model.write(\"group-optim-toy.lp\")\n",
        "\n",
        "# Optimize model\n",
        "model.Params.LazyConstraints = 1\n",
        "\n",
        "model.optimize(lazy_callback)\n",
        "\n",
        "#model.optimize()\n",
        "\n",
        "if model.status == GRB.OPTIMAL or model.status == GRB.SUBOPTIMAL:\n",
        "  for v in model.getVars():\n",
        "      if v.X > 0.5:\n",
        "          print(f\"{v.VarName}, {v.x:g}\") #{v.X:g}\")\n",
        "\n",
        "  print(f\"Obj: {model.ObjVal:g}\")\n",
        "  print(f\"Time: {model.Runtime:g}\")\n",
        "else:\n",
        "  print(f\"Optimization failed with status: {model.status}\")"
      ],
      "metadata": {
        "colab": {
          "base_uri": "https://localhost:8080/"
        },
        "id": "BnKR__nb-fWL",
        "outputId": "a0d13ee1-f25d-4bd0-85b5-73008b5d0286"
      },
      "execution_count": 7,
      "outputs": [
        {
          "output_type": "stream",
          "name": "stdout",
          "text": [
            "Set parameter LazyConstraints to value 1\n",
            "Gurobi Optimizer version 12.0.1 build v12.0.1rc0 (linux64 - \"Ubuntu 22.04.4 LTS\")\n",
            "\n",
            "CPU model: Intel(R) Xeon(R) CPU @ 2.20GHz, instruction set [SSE2|AVX|AVX2]\n",
            "Thread count: 1 physical cores, 2 logical processors, using up to 2 threads\n",
            "\n",
            "Non-default parameters:\n",
            "LazyConstraints  1\n",
            "\n",
            "Optimize a model with 374 rows, 178 columns and 868 nonzeros\n",
            "Model fingerprint: 0xb6892454\n",
            "Model has 60 simple general constraints\n",
            "  60 INDICATOR\n",
            "Variable types: 10 continuous, 168 integer (142 binary)\n",
            "Coefficient statistics:\n",
            "  Matrix range     [1e+00, 7e+00]\n",
            "  Objective range  [1e+00, 1e+02]\n",
            "  Bounds range     [1e+00, 5e+00]\n",
            "  RHS range        [1e+00, 1e+01]\n",
            "  GenCon rhs range [1e+00, 7e+01]\n",
            "  GenCon coe range [1e+00, 1e+00]\n",
            "Presolve removed 92 rows and 43 columns\n",
            "Presolve time: 0.01s\n",
            "Presolved: 282 rows, 135 columns, 747 nonzeros\n",
            "Presolved model has 9 SOS constraint(s)\n",
            "Variable types: 9 continuous, 126 integer (107 binary)\n",
            "Found heuristic solution: objective 600.0000000\n",
            "\n",
            "Root relaxation: objective 2.900000e+02, 112 iterations, 0.00 seconds (0.00 work units)\n",
            "\n",
            "    Nodes    |    Current Node    |     Objective Bounds      |     Work\n",
            " Expl Unexpl |  Obj  Depth IntInf | Incumbent    BestBd   Gap | It/Node Time\n",
            "\n",
            "     0     0  290.00000    0   22  600.00000  290.00000  51.7%     -    0s\n",
            "H    0     0                     580.0000000  290.00000  50.0%     -    0s\n",
            "     0     0  290.00000    0   32  580.00000  290.00000  50.0%     -    0s\n",
            "H    0     0                     560.0000000  290.00000  48.2%     -    0s\n",
            "     0     0  365.00000    0   67  560.00000  365.00000  34.8%     -    0s\n",
            "     0     0  384.55807    0   82  560.00000  384.55807  31.3%     -    0s\n",
            "H    0     0                     490.0000000  390.00000  20.4%     -    0s\n",
            "     0     0  390.00000    0   82  490.00000  390.00000  20.4%     -    0s\n",
            "     0     0  390.00000    0   81  490.00000  390.00000  20.4%     -    0s\n",
            "     0     0  390.00000    0   76  490.00000  390.00000  20.4%     -    0s\n",
            "     0     0  390.00000    0   75  490.00000  390.00000  20.4%     -    0s\n",
            "     0     0  390.00000    0   80  490.00000  390.00000  20.4%     -    0s\n",
            "     0     0  390.00000    0   82  490.00000  390.00000  20.4%     -    0s\n",
            "     0     0  390.00000    0   85  490.00000  390.00000  20.4%     -    0s\n",
            "     0     0  390.00000    0   82  490.00000  390.00000  20.4%     -    0s\n",
            "     0     0  390.00000    0   78  490.00000  390.00000  20.4%     -    0s\n",
            "     0     0  390.00000    0   78  490.00000  390.00000  20.4%     -    0s\n",
            "     0     2  390.00000    0   76  490.00000  390.00000  20.4%     -    0s\n",
            "\n",
            "Cutting planes:\n",
            "  Learned: 32\n",
            "  Gomory: 3\n",
            "  Cover: 7\n",
            "  Implied bound: 7\n",
            "  Clique: 1\n",
            "  MIR: 10\n",
            "  StrongCG: 2\n",
            "  Mod-K: 1\n",
            "  Network: 1\n",
            "  RLT: 2\n",
            "  Relax-and-lift: 1\n",
            "  BQP: 1\n",
            "  Lazy constraints: 19\n",
            "\n",
            "Explored 99 nodes (1831 simplex iterations) in 0.33 seconds (0.06 work units)\n",
            "Thread count was 2 (of 2 available processors)\n",
            "\n",
            "Solution count 4: 490 560 580 600 \n",
            "\n",
            "Optimal solution found (tolerance 1.00e-04)\n",
            "Best objective 4.900000000000e+02, best bound 4.900000000000e+02, gap 0.0000%\n",
            "\n",
            "User-callback calls 900, time in user-callback 0.01 sec\n",
            "x[3,1,0], 1\n",
            "x[0,0,1], 1\n",
            "x[3,1,1], 1\n",
            "x[1,0,2], 1\n",
            "x[1,1,2], 1\n",
            "x[1,0,3], 1\n",
            "x[1,1,3], 1\n",
            "group[0], 1\n",
            "group[1], 1\n",
            "group[3], 1\n",
            "col_in_group[0,0], 1\n",
            "col_in_group[1,0], 1\n",
            "col_in_group[1,1], 1\n",
            "col_in_group[3,1], 1\n",
            "level_in_group[0,1], 1\n",
            "level_in_group[1,2], 1\n",
            "level_in_group[1,3], 1\n",
            "level_in_group[2,1], 1\n",
            "level_in_group[3,0], 1\n",
            "level_in_group[3,1], 1\n",
            "group_lb[0], 1\n",
            "group_lb[1], 2\n",
            "group_lb[2], 1\n",
            "group_ub[0], 1\n",
            "group_ub[1], 3\n",
            "group_ub[2], 1\n",
            "group_ub[3], 1\n",
            "group_range[1], 1\n",
            "group_range[3], 1\n",
            "group_section[0], 2\n",
            "group_section[1], 1\n",
            "group_section[3], 1\n",
            "element_section[1,0], 1\n",
            "element_section[0,1], 2\n",
            "element_section[1,1], 1\n",
            "element_section[0,2], 1\n",
            "element_section[1,2], 1\n",
            "element_section[0,3], 1\n",
            "element_section[1,3], 1\n",
            "y[0,0,0], 1\n",
            "y[1,0,1], 1\n",
            "y[0,1,2], 1\n",
            "y[1,1,1], 1\n",
            "y[0,2,1], 1\n",
            "y[1,2,1], 1\n",
            "y[0,3,1], 1\n",
            "y[1,3,1], 1\n",
            "y[0,4,0], 1\n",
            "y[1,4,0], 1\n",
            "cost_section[1,0], 20\n",
            "cost_section[0,1], 70\n",
            "cost_section[1,1], 20\n",
            "cost_section[0,2], 20\n",
            "cost_section[1,2], 20\n",
            "cost_section[0,3], 20\n",
            "cost_section[1,3], 20\n",
            "Zu[0,0], 1\n",
            "Zu[0,1], 1\n",
            "Zu[1,0], 1\n",
            "Zu[1,1], 1\n",
            "Zu[1,2], 1\n",
            "Zu[1,3], 1\n",
            "Zu[2,0], 1\n",
            "Zu[2,1], 1\n",
            "Zu[3,0], 1\n",
            "Zu[3,1], 1\n",
            "Zl[0,1], 1\n",
            "Zl[0,2], 1\n",
            "Zl[0,3], 1\n",
            "Zl[0,4], 1\n",
            "Zl[1,2], 1\n",
            "Zl[1,3], 1\n",
            "Zl[1,4], 1\n",
            "Zl[2,1], 1\n",
            "Zl[2,2], 1\n",
            "Zl[2,3], 1\n",
            "Zl[2,4], 1\n",
            "Zl[3,0], 1\n",
            "Zl[3,1], 1\n",
            "Zl[3,2], 1\n",
            "Zl[3,3], 1\n",
            "Zl[3,4], 1\n",
            "Obj: 490\n",
            "Time: 0.340106\n"
          ]
        }
      ]
    },
    {
      "cell_type": "code",
      "source": [
        "import numpy as np\n",
        "\n",
        "grouped_elements = np.full((n_cols, n_levels), -1)  # -1 as default (if element doesn't exist)\n",
        "\n",
        "for g, i, j in x.keys():\n",
        "    if x[g, i, j].X > 0.5:  # Check if x[g, i, j] is active\n",
        "        grouped_elements[i, j] = g\n",
        "\n",
        "print(grouped_elements)"
      ],
      "metadata": {
        "colab": {
          "base_uri": "https://localhost:8080/"
        },
        "id": "Xv6rEqetVtde",
        "outputId": "4e20400c-7d02-4f6d-8b4b-4266022d9211"
      },
      "execution_count": 8,
      "outputs": [
        {
          "output_type": "stream",
          "name": "stdout",
          "text": [
            "[[-1  0  1  1 -1]\n",
            " [ 3  3  1  1 -1]]\n"
          ]
        }
      ]
    },
    {
      "cell_type": "code",
      "source": [
        "section_of_elements = np.full((n_cols, n_levels), 0)\n",
        "\n",
        "for i, j in element_section.keys():\n",
        "    section_of_elements[i, j] = element_section[i, j].X\n",
        "\n",
        "print(section_of_elements)"
      ],
      "metadata": {
        "colab": {
          "base_uri": "https://localhost:8080/"
        },
        "id": "1Eownyvo5YJo",
        "outputId": "108a04b7-fea3-42ee-aeac-e978609269e8"
      },
      "execution_count": 9,
      "outputs": [
        {
          "output_type": "stream",
          "name": "stdout",
          "text": [
            "[[0 2 1 1 0]\n",
            " [1 1 1 1 0]]\n"
          ]
        }
      ]
    },
    {
      "cell_type": "code",
      "source": [
        "# two heatmaps: one: color for representing groups and number representing the group section and vice versa\n",
        "import seaborn as sns\n",
        "import matplotlib.pyplot as plt\n",
        "import matplotlib.colors as mcolors\n",
        "\n",
        "def heatmap(color_vals, annot_vals):\n",
        "  unique_values_1 = np.unique(color_vals)\n",
        "  unique_values_1 = unique_values_1[unique_values_1 != -1]\n",
        "\n",
        "\n",
        "\n",
        "  unique_values_2 = np.unique(annot_vals)\n",
        "  unique_values_2 = unique_values_2[unique_values_2 > 0]\n",
        "\n",
        "  palette_1 = sns.color_palette(\"viridis\", len(unique_values_1))\n",
        "  palette_2 = sns.color_palette(\"viridis\", len(unique_values_2))\n",
        "\n",
        "  color_dict_1 = {-1: (1, 1, 1)}  # White for -1\n",
        "  for val, color in zip(unique_values_1, palette_1):\n",
        "      color_dict_1[val] = color\n",
        "\n",
        "  color_dict_2 = {0: (1, 1, 1)}  # White for 0\n",
        "  for val, color in zip(unique_values_2, palette_2):\n",
        "      color_dict_2[val] = color\n",
        "\n",
        "  sorted_vals_1 = np.sort(list(color_dict_1.keys()))\n",
        "  cmap_1 = mcolors.ListedColormap([color_dict_1[val] for val in sorted_vals_1])\n",
        "\n",
        "  sorted_vals_2 = np.sort(list(color_dict_2.keys()))\n",
        "  cmap_2 = mcolors.ListedColormap([color_dict_2[val] for val in sorted_vals_2])\n",
        "\n",
        "  bounds_1 = np.append(sorted_vals_1, sorted_vals_1[-1] + 1) - .5\n",
        "  norm_1 = mcolors.BoundaryNorm(bounds_1, cmap_1.N)\n",
        "\n",
        "  bounds_2 = np.append(sorted_vals_2, sorted_vals_2[-1] + 1) - .5\n",
        "  norm_2 = mcolors.BoundaryNorm(bounds_2, cmap_2.N)\n",
        "\n",
        "  fig, axes = plt.subplots(1,2,figsize=(10,5))\n",
        "\n",
        "  sns.heatmap(np.rot90(color_vals), annot=np.rot90(annot_vals), cmap=cmap_1, norm=norm_1,\n",
        "              linewidths=0.5, linecolor=\"black\", cbar=False, ax=axes[0])\n",
        "\n",
        "  ax2 = sns.heatmap(np.rot90(annot_vals), annot=np.rot90(color_vals), cmap=cmap_2, norm=norm_2,\n",
        "                    linewidths=.5, linecolor=\"black\", cbar=True, ax=axes[1])\n",
        "\n",
        "  # customizing the cbar\n",
        "  cbar = ax2.collections[0].colorbar\n",
        "  cbar.set_ticks(sorted_vals_2)\n",
        "  cbar.set_ticklabels(sorted_vals_2)\n",
        "\n",
        "  axes[0].set_title(\"Grouping of elements\")\n",
        "  axes[1].set_title(\"Section of elements\")\n",
        "\n",
        "  axes[0].axis(\"off\")\n",
        "  axes[1].axis(\"off\")\n",
        "\n",
        "  plt.tight_layout()\n",
        "  plt.show()"
      ],
      "metadata": {
        "id": "9Zp6HkusWReD"
      },
      "execution_count": 10,
      "outputs": []
    },
    {
      "cell_type": "code",
      "source": [
        "heatmap(grouped_elements, section_of_elements)"
      ],
      "metadata": {
        "colab": {
          "base_uri": "https://localhost:8080/",
          "height": 507
        },
        "id": "q5xtXZf__uXd",
        "outputId": "e3c5f776-c429-433d-9aa4-052f9be4ebfe"
      },
      "execution_count": 11,
      "outputs": [
        {
          "output_type": "display_data",
          "data": {
            "text/plain": [
              "<Figure size 1000x500 with 3 Axes>"
            ],
            "image/png": "[encoded data removed]"
          },
          "metadata": {}
        }
      ]
    }
  ]
}