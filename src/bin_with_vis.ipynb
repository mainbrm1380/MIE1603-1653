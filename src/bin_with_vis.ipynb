{
  "nbformat": 4,
  "nbformat_minor": 0,
  "metadata": {
    "colab": {
      "provenance": []
    },
    "kernelspec": {
      "name": "python3",
      "display_name": "Python 3"
    },
    "language_info": {
      "name": "python"
    }
  },
  "cells": [
    {
      "cell_type": "code",
      "source": [
        "!pip install gurobipy\n",
        "import numpy as np\n",
        "import matplotlib.pyplot as plt\n",
        "import matplotlib.colors as mcolors\n",
        "import seaborn as sns"
      ],
      "metadata": {
        "colab": {
          "base_uri": "https://localhost:8080/"
        },
        "id": "7G_ZAO1wMu6W",
        "outputId": "6acb3763-6131-454e-8eb1-b006f854f7b0"
      },
      "execution_count": 31,
      "outputs": [
        {
          "output_type": "stream",
          "name": "stdout",
          "text": [
            "Requirement already satisfied: gurobipy in /usr/local/lib/python3.11/dist-packages (12.0.1)\n"
          ]
        }
      ]
    },
    {
      "cell_type": "code",
      "execution_count": 32,
      "metadata": {
        "id": "UCU5xj1oMptA"
      },
      "outputs": [],
      "source": [
        "import gurobipy as gp\n",
        "from gurobipy import GRB\n",
        "\n",
        "# test_data = [[4,2,1,1,0],[1,1,1,1,0], [3,2,1,1,1],[4,3,3,3,1],[0,0,2,2,0],[8,8,7,6,3]] #e_ij = 1 if col i exists at level j, bottom to top\n",
        "test_data = [[0,2,1,1,0],[1,1,1,1,0]]\n",
        "\n",
        "# num_Sections = 20\n",
        "# num_Cols = 10\n",
        "# num_Levels = 10\n",
        "# min_section_cost = 100\n",
        "# max_section_cost = 10000\n",
        "\n",
        "#test_data = generate_instance(num_Sections,num_Cols,num_Levels,min_s_in_c=1,max_s_in_c=4)\n",
        "#SectionCost = generate_section_costs(num_Sections,min_section_cost,max_section_cost)\n",
        "SectionCost = [0,20,70]\n",
        "\n",
        "\n",
        "n_cols = len(test_data)\n",
        "n_levels = len(test_data[0])\n",
        "# max_min_groups = 15 #min(n_cols,n_levels) #TODO: NEED NEW HEURISTIC FOR THIS\n",
        "max_min_groups = 4 #min(n_cols,n_levels) #TODO: NEED NEW HEURISTIC FOR THIS\n",
        "M = n_levels + 2\n",
        "M_sections = max([max(i) for i in test_data]) + 1\n",
        "\n",
        "Xgcl = [(g,c,l) for l in range(n_levels) for c in range(n_cols) for g in range(max_min_groups)]\n",
        "Gs = [(g,s) for g in range(max_min_groups) for s in range(M_sections)]\n",
        "Es = [(c,l,s) for s in range(M_sections) for l in range(n_levels) for c in range(n_cols)]\n",
        "\n",
        "#c,l\n",
        "S = {(i,j): test_data[i][j] for j in range(n_levels) for i in range(n_cols)}\n",
        "S_bin = {(i,j,s): 1 if s >= test_data[i][j] else 0 for s in range(M_sections) for j in range(n_levels) for i in range(n_cols)}\n",
        "E = {(i,j): 1 if test_data[i][j] > 0 else 0 for j in range(n_levels) for i in range(n_cols)}\n",
        "\n",
        "\n",
        "# Create a new model\n",
        "model = gp.Model(\"Grouping-Optimization\")\n",
        "\n",
        "# # Create variables\n",
        "\n",
        "x = model.addVars(Xgcl, vtype = GRB.BINARY, name=\"x\")\n",
        "\n",
        "GroupCost = 100\n",
        "# SectionCost = [0,100,400,800,1600,3200,6400,12800,14000]\n",
        "sections = set(i for i in range(len(SectionCost)))\n",
        "\n",
        "group_exists = model.addVars(max_min_groups, vtype = GRB.BINARY, name=\"group_exists\")\n",
        "column_in_group = model.addVars(max_min_groups, n_cols, vtype = GRB.BINARY, name=\"col_in_group\")\n",
        "level_in_group = model.addVars(max_min_groups, n_levels, vtype = GRB.BINARY, name=\"level_in_group\")\n",
        "\n",
        "# can these be continuous? or must be int?\n",
        "group_lower_bound = model.addVars(max_min_groups, vtype = GRB.INTEGER, name=\"group_lb\", lb = 0, ub = n_levels)\n",
        "group_upper_bound = model.addVars(max_min_groups, vtype = GRB.INTEGER, name=\"group_ub\", lb = 0, ub = n_levels)\n",
        "group_level_range = model.addVars(max_min_groups, vtype = GRB.INTEGER, name=\"group_range\", lb = 0, ub = n_levels)\n",
        "\n",
        "#section size variables\n",
        "group_section = model.addVars(Gs, vtype = GRB.BINARY, name=\"group_section\")\n",
        "element_section = model.addVars(Es, vtype=GRB.BINARY, name=\"element_section\")\n",
        "# Zs = model.addVars(Xgcl, vtype = GRB.BINARY, name = \"Zs\") #if group section = element section\n",
        "\n",
        "#each group is same section\n",
        "#group section has to be >= section of element\n",
        "#take min of cost_of_section * num of elements with that section\n",
        "#^either count # of sections in each group, and linearize cost_of_section var * # sections\n",
        "#that is for integer version, binary version has binary var for which section a grou phas, times its cost, times number of elements\n",
        "# or has bin var for section of each element, and multiple by cost of that section.\n",
        "# 4 variations??\n",
        "\n",
        "Zu = model.addVars(max_min_groups, n_levels, vtype = GRB.BINARY, name=\"Zu\")\n",
        "Zl = model.addVars(max_min_groups, n_levels, vtype = GRB.BINARY, name=\"Zl\")"
      ]
    },
    {
      "cell_type": "code",
      "source": [
        "for c in range(n_cols):\n",
        "  for l in range(n_levels):\n",
        "    #sum of Xgcl over all groups must = if col at that level exists\n",
        "    model.addConstr(gp.quicksum(x[g,c,l] for g in range(max_min_groups)) == E[c,l])\n",
        "    model.addConstr(gp.quicksum(s * element_section[c,l,s] for s in range(M_sections)) >= S[c,l])\n",
        "    # model.addConstr(gp.quicksum(element_section[c,l,s] for s in range(M_sections)) == 1)\n",
        "\n",
        "  for l in range(1,n_levels):\n",
        "    if E[c,l] == 1:\n",
        "      model.addConstr(gp.quicksum(s*element_section[c,l,s] for s in range(M_sections)) >= gp.quicksum((s*element_section[c,l-1,s] for s in range(M_sections))))\n",
        "\n",
        "for g in range(max_min_groups):\n",
        "  #range of group g = upper bound - lower bound\n",
        "  model.addConstr(group_level_range[g] == group_upper_bound[g] - group_lower_bound[g])\n",
        "\n",
        "  #1 section per group\n",
        "  model.addConstr(gp.quicksum(group_section[g,s] for s in range(M_sections)) == 1)\n",
        "\n",
        "  for c in range(n_cols):\n",
        "    for l in range(n_levels):\n",
        "\n",
        "      #if element is in a group, it's section is at least the group's\n",
        "      #if not in the group, it's greater than (at most) 0\n",
        "      #TODO: these are problems constraints.\n",
        "      model.addConstr(gp.quicksum(s * element_section[c,l,s] for s in range(M_sections)) >= gp.quicksum(s * group_section[g,s] for s in range(M_sections)) - (M_sections+1)*(1-x[g,c,l]))\n",
        "      model.addConstr(gp.quicksum(s * element_section[c,l,s] for s in range(M_sections)) <= gp.quicksum(s * group_section[g,s] for s in range(M_sections)) + (M_sections+1)*(1-x[g,c,l]))\n",
        "\n",
        "      #if element is in group, that column is in the group\n",
        "      model.addConstr(column_in_group[g,c] >= x[g,c,l])\n",
        "\n",
        "      #if element is in group, that level is in the group\n",
        "      model.addConstr(level_in_group[g,l] >= x[g,c,l])\n",
        "\n",
        "      #if element is in that group, that group exists\n",
        "      model.addConstr(group_exists[g] >= x[g,c,l])\n",
        "\n",
        "for g in range(max_min_groups):\n",
        "  for l in range(n_levels):\n",
        "\n",
        "    #calculate upper, lower level\n",
        "    #NOTE: need to min(Ug) and max(Lg) for this to work\n",
        "    #NOTE: in julia, everything is 1 based, might need to adjust formulation to make everything work as 0-based\n",
        "    model.addConstr(l*level_in_group[g,l] <= group_upper_bound[g])\n",
        "    model.addConstr(l*level_in_group[g,l] + M*(1-level_in_group[g,l]) >= group_lower_bound[g])\n",
        "\n",
        "    #set Zl\n",
        "    model.addConstr(M*Zl[g,l] >= l-group_lower_bound[g]+1)\n",
        "    model.addConstr(M*(1-Zl[g,l]) >= group_lower_bound[g]-l)\n",
        "\n",
        "    #set Zu\n",
        "    model.addConstr(M*Zu[g,l] >= group_upper_bound[g]-l+1)\n",
        "    model.addConstr(M*(1-Zu[g,l]) >= l-group_upper_bound[g])\n",
        "\n",
        "    #if a level is within lower/upper bound, it's in the group\n",
        "    model.addConstr(1+level_in_group[g,l] >= Zu[g,l]+Zl[g,l])\n",
        "\n",
        "    # for c in range(n_cols):\n",
        "      #if column and level are in the group, so is the element\n",
        "      #todo: lazily constraint??\n",
        "      # model.addConstr(column_in_group[g,c]+level_in_group[g,l] <= 1 + x[g,c,l])"
      ],
      "metadata": {
        "id": "I2CaK0kmqIzL"
      },
      "execution_count": 33,
      "outputs": []
    },
    {
      "cell_type": "code",
      "source": [
        "def lazy_callback(model, where):\n",
        "    if where == GRB.Callback.MIPSOL:  # Check if a new solution is found\n",
        "        # Retrieve the values of decision variables at the current solution\n",
        "        column_vals = model.cbGetSolution(column_in_group)\n",
        "        level_vals = model.cbGetSolution(level_in_group)\n",
        "        x_vals = model.cbGetSolution(x)\n",
        "\n",
        "        # Iterate through indices and add violated constraints\n",
        "        for g in range(max_min_groups):\n",
        "            for l in range(n_levels):\n",
        "                for c in range(n_cols):\n",
        "                    lhs = column_vals[g, c] + level_vals[g, l]  # Left-hand side\n",
        "                    rhs = 1 + x_vals[g, c, l]  # Right-hand side\n",
        "                    if lhs > rhs + 1e-6:  # Constraint is violated\n",
        "                        model.cbLazy(column_in_group[g, c] + level_in_group[g, l] <= 1 + x[g, c, l])"
      ],
      "metadata": {
        "id": "djKOSjOVqsf3"
      },
      "execution_count": 34,
      "outputs": []
    },
    {
      "cell_type": "code",
      "source": [
        "model.setObjective(gp.quicksum(element_section[c,l,s] * SectionCost[s] for s in range(M_sections) for c in range(n_cols) for l in range(n_levels)) + GroupCost*gp.quicksum(group_exists),GRB.MINIMIZE)"
      ],
      "metadata": {
        "colab": {
          "base_uri": "https://localhost:8080/"
        },
        "id": "f-na9Qj-qM6f",
        "outputId": "7637f935-5f18-422b-f1bd-ef00f5a81742"
      },
      "execution_count": 35,
      "outputs": [
        {
          "output_type": "stream",
          "name": "stderr",
          "text": [
            "<ipython-input-35-cbabd68e51fc>:1: DeprecationWarning: Calling quicksum on a tupledict is deprecated, use .sum() instead.\n",
            "  model.setObjective(gp.quicksum(element_section[c,l,s] * SectionCost[s] for s in range(M_sections) for c in range(n_cols) for l in range(n_levels)) + GroupCost*gp.quicksum(group_exists),GRB.MINIMIZE)\n"
          ]
        }
      ]
    },
    {
      "cell_type": "code",
      "source": [
        "# model.write(\"group-optim-toy.lp\")\n",
        "\n",
        "# Optimize model\n",
        "# model.optimize()\n",
        "model.Params.LazyConstraints = 1\n",
        "\n",
        "model.optimize(lazy_callback)\n",
        "\n",
        "ns = 0\n",
        "for v in model.getVars():\n",
        "    if \"group_exists\" in v.VarName and v.X > 0.5:\n",
        "      ns += 1\n",
        "        # print(f\"{v.VarName}, {v.x:g}\") #{v.X:g}\")\n",
        "\n",
        "print(f\"Obj: {model.ObjVal:g}\")\n",
        "print(f\"Time: {model.Runtime:g}\")\n",
        "\n",
        "print(\"Groups: \", ns)\n",
        "\n",
        "print(test_data)\n",
        "print(SectionCost)"
      ],
      "metadata": {
        "colab": {
          "base_uri": "https://localhost:8080/"
        },
        "id": "Lp7Z9Cf2qOMQ",
        "outputId": "670916f5-5cf5-4b0e-f5a1-9a28e9bfb639"
      },
      "execution_count": 36,
      "outputs": [
        {
          "output_type": "stream",
          "name": "stdout",
          "text": [
            "Set parameter LazyConstraints to value 1\n",
            "Gurobi Optimizer version 12.0.1 build v12.0.1rc0 (linux64 - \"Ubuntu 22.04.4 LTS\")\n",
            "\n",
            "CPU model: Intel(R) Xeon(R) CPU @ 2.20GHz, instruction set [SSE2|AVX|AVX2]\n",
            "Thread count: 1 physical cores, 2 logical processors, using up to 2 threads\n",
            "\n",
            "Non-default parameters:\n",
            "LazyConstraints  1\n",
            "\n",
            "Optimize a model with 374 rows, 166 columns and 1044 nonzeros\n",
            "Model fingerprint: 0x5348db0b\n",
            "Variable types: 0 continuous, 166 integer (154 binary)\n",
            "Coefficient statistics:\n",
            "  Matrix range     [1e+00, 7e+00]\n",
            "  Objective range  [2e+01, 1e+02]\n",
            "  Bounds range     [1e+00, 5e+00]\n",
            "  RHS range        [1e+00, 1e+01]\n",
            "Presolve removed 103 rows and 26 columns\n",
            "Presolve time: 0.02s\n",
            "Presolved: 271 rows, 140 columns, 650 nonzeros\n",
            "Variable types: 0 continuous, 140 integer (128 binary)\n",
            "\n",
            "Root relaxation: objective 3.900000e+02, 97 iterations, 0.00 seconds (0.00 work units)\n",
            "\n",
            "    Nodes    |    Current Node    |     Objective Bounds      |     Work\n",
            " Expl Unexpl |  Obj  Depth IntInf | Incumbent    BestBd   Gap | It/Node Time\n",
            "\n",
            "     0     0  390.00000    0   25          -  390.00000      -     -    0s\n",
            "H    0     0                     490.0000000  390.00000  20.4%     -    0s\n",
            "     0     0 infeasible    0       490.00000  490.00000  0.00%     -    0s\n",
            "\n",
            "Cutting planes:\n",
            "  Gomory: 2\n",
            "  Zero half: 3\n",
            "  RLT: 9\n",
            "  BQP: 1\n",
            "  Lazy constraints: 14\n",
            "\n",
            "Explored 1 nodes (223 simplex iterations) in 0.11 seconds (0.01 work units)\n",
            "Thread count was 2 (of 2 available processors)\n",
            "\n",
            "Solution count 1: 490 \n",
            "\n",
            "Optimal solution found (tolerance 1.00e-04)\n",
            "Best objective 4.900000000000e+02, best bound 4.900000000000e+02, gap 0.0000%\n",
            "\n",
            "User-callback calls 309, time in user-callback 0.00 sec\n",
            "Obj: 490\n",
            "Time: 0.121827\n",
            "Groups:  2\n",
            "[[0, 2, 1, 1, 0], [1, 1, 1, 1, 0]]\n",
            "[0, 20, 70]\n"
          ]
        }
      ]
    },
    {
      "cell_type": "code",
      "source": [
        "grouped_elements = np.full((n_cols, n_levels), -1)  # -1 as default (if element doesn't exist)\n",
        "\n",
        "for g, i, j in x.keys():\n",
        "    if x[g, i, j].X > 0.5:  # Check if x[g, i, j] is active\n",
        "        grouped_elements[i, j] = g\n",
        "\n",
        "print(grouped_elements)"
      ],
      "metadata": {
        "colab": {
          "base_uri": "https://localhost:8080/"
        },
        "id": "VGxjcPSyrt2s",
        "outputId": "5b97e267-48fb-41cd-bfba-0a00e4c9d778"
      },
      "execution_count": 37,
      "outputs": [
        {
          "output_type": "stream",
          "name": "stdout",
          "text": [
            "[[-1  2  2  2 -1]\n",
            " [ 0  0  0  0 -1]]\n"
          ]
        }
      ]
    },
    {
      "cell_type": "code",
      "source": [
        "section_of_elements = np.full((n_cols, n_levels), 0)\n",
        "\n",
        "for c, l, s in element_section.keys():\n",
        "    if element_section[c, l, s].X > 0.5:\n",
        "      section_of_elements[c, l] = s\n",
        "    # print(f\"column {c}, level {l}, section {s}: {element_section[c,l,s].X}\")\n",
        "\n",
        "print(section_of_elements)"
      ],
      "metadata": {
        "colab": {
          "base_uri": "https://localhost:8080/"
        },
        "id": "YntMV2tor2CK",
        "outputId": "e32006af-a888-401b-9144-12a6c5e39a21"
      },
      "execution_count": 38,
      "outputs": [
        {
          "output_type": "stream",
          "name": "stdout",
          "text": [
            "[[0 2 2 2 0]\n",
            " [1 1 1 1 0]]\n"
          ]
        }
      ]
    },
    {
      "cell_type": "code",
      "source": [
        "def heatmap(color_vals, annot_vals):\n",
        "  unique_values_1 = np.unique(color_vals)\n",
        "  unique_values_1 = unique_values_1[unique_values_1 != -1]\n",
        "\n",
        "  unique_values_2 = np.unique(annot_vals)\n",
        "  unique_values_2 = unique_values_2[unique_values_2 > 0]\n",
        "\n",
        "  palette_1 = sns.color_palette(\"viridis\", len(unique_values_1))\n",
        "  palette_2 = sns.color_palette(\"viridis\", len(unique_values_2))\n",
        "\n",
        "  color_dict_1 = {-1: (1, 1, 1)}  # White for -1\n",
        "  for val, color in zip(unique_values_1, palette_1):\n",
        "      color_dict_1[val] = color\n",
        "\n",
        "  color_dict_2 = {0: (1, 1, 1)}  # White for 0\n",
        "  for val, color in zip(unique_values_2, palette_2):\n",
        "      color_dict_2[val] = color\n",
        "\n",
        "  sorted_vals_1 = np.sort(list(color_dict_1.keys()))\n",
        "  cmap_1 = mcolors.ListedColormap([color_dict_1[val] for val in sorted_vals_1])\n",
        "\n",
        "  sorted_vals_2 = np.sort(list(color_dict_2.keys()))\n",
        "  cmap_2 = mcolors.ListedColormap([color_dict_2[val] for val in sorted_vals_2])\n",
        "\n",
        "  bounds_1 = np.append(sorted_vals_1, sorted_vals_1[-1] + 1) - .5\n",
        "  norm_1 = mcolors.BoundaryNorm(bounds_1, cmap_1.N)\n",
        "\n",
        "  bounds_2 = np.append(sorted_vals_2, sorted_vals_2[-1] + 1) - .5\n",
        "  norm_2 = mcolors.BoundaryNorm(bounds_2, cmap_2.N)\n",
        "\n",
        "  fig, axes = plt.subplots(1,2,figsize=(10,5))\n",
        "\n",
        "  sns.heatmap(np.rot90(color_vals), annot=np.rot90(annot_vals), cmap=cmap_1, norm=norm_1,\n",
        "              linewidths=0.5, linecolor=\"black\", cbar=False, ax=axes[0])\n",
        "\n",
        "  ax2 = sns.heatmap(np.rot90(annot_vals), annot=np.rot90(color_vals), cmap=cmap_2, norm=norm_2,\n",
        "                    linewidths=.5, linecolor=\"black\", cbar=True, ax=axes[1])\n",
        "\n",
        "  # customizing the cbar\n",
        "  cbar = ax2.collections[0].colorbar\n",
        "  cbar.set_ticks(sorted_vals_2)\n",
        "  cbar.set_ticklabels(sorted_vals_2)\n",
        "\n",
        "  axes[0].set_title(\"Grouping of elements\")\n",
        "  axes[1].set_title(\"Section of elements\")\n",
        "\n",
        "  axes[0].axis(\"off\")\n",
        "  axes[1].axis(\"off\")\n",
        "\n",
        "  plt.tight_layout()\n",
        "  plt.show()"
      ],
      "metadata": {
        "id": "_ZIpHeaEKAY2"
      },
      "execution_count": 39,
      "outputs": []
    },
    {
      "cell_type": "code",
      "source": [
        "heatmap(grouped_elements, section_of_elements)"
      ],
      "metadata": {
        "colab": {
          "base_uri": "https://localhost:8080/",
          "height": 507
        },
        "id": "5CZ2q02GKQ-U",
        "outputId": "16626f42-7967-4f11-f0bf-f0e17577235c"
      },
      "execution_count": 40,
      "outputs": [
        {
          "output_type": "display_data",
          "data": {
            "text/plain": [
              "<Figure size 1000x500 with 3 Axes>"
            ],
            "image/png": "[encoded data removed]"
          },
          "metadata": {}
        }
      ]
    }
  ]
}